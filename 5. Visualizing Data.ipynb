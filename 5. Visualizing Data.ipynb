{
 "cells": [
  {
   "cell_type": "markdown",
   "metadata": {},
   "source": [
    "# Visualizing Data\n",
    "They say that a picture is worth a thousand words and often looking at data in a chart reveals a whole lot more than by merely looking at numbers in a table.  In the previous examples you have already seen how easy it is to draw charts in F#.  We did that with the [XPlot](https://fslab.org/XPlot/) library (which is built into Jupyter Notebook).  XPlot is a F# friendly wrapper on top of [Google Plots](https://fslab.org/XPlot/google-charts.html) and [Plotly](https://fslab.org/XPlot/plotly.html).  \n",
    "\n",
    "In general you create a list of tuples as input to the charts.  As you can read in the documentation for each chart, what goes into those tuples varies between the chart types.  For example, this example for the Bar chart shows how you create a list of tuples for each of the to data series and then pass them on as a list of lists of tuples to the chart."
   ]
  },
  {
   "cell_type": "code",
   "execution_count": 1,
   "metadata": {},
   "outputs": [
    {
     "data": {
      "text/html": [
       "<div id=\"9093f4bf-5b1a-4193-8cd6-c30e70f7a45f\" style=\"width: 700px; height: 500px;\"></div>\r\n",
       "<script type=\"text/javascript\">\r\n",
       "\r\n",
       "var renderPlotly = function() {\r\n",
       "    var xplotRequire = requirejs.config({context:'xplot-3.0.1',paths:{plotly:'https://cdn.plot.ly/plotly-1.49.2.min'}});\r\n",
       "    xplotRequire(['plotly'], function(Plotly) {\r\n",
       "\n",
       "            var data = [{\"type\":\"bar\",\"x\":[20,14,23],\"y\":[\"giraffes\",\"orangutans\",\"monkeys\"],\"orientation\":\"h\"},{\"type\":\"bar\",\"x\":[15,16,21],\"y\":[\"giraffes\",\"orangutans\",\"monkeys\"],\"orientation\":\"h\"}];\n",
       "            var layout = {\"title\":\"Basic Bar Chart\"};\n",
       "            Plotly.newPlot('9093f4bf-5b1a-4193-8cd6-c30e70f7a45f', data, layout);\n",
       "        \r\n",
       "});\r\n",
       "};\r\n",
       "if ((typeof(requirejs) !==  typeof(Function)) || (typeof(requirejs.config) !== typeof(Function))) { \r\n",
       "    var script = document.createElement(\"script\"); \r\n",
       "    script.setAttribute(\"src\", \"https://cdnjs.cloudflare.com/ajax/libs/require.js/2.3.6/require.min.js\"); \r\n",
       "    script.onload = function(){\r\n",
       "        renderPlotly();\r\n",
       "    };\r\n",
       "    document.getElementsByTagName(\"head\")[0].appendChild(script); \r\n",
       "}\r\n",
       "else {\r\n",
       "    renderPlotly();\r\n",
       "}\r\n",
       "</script>\r\n"
      ]
     },
     "execution_count": 1,
     "metadata": {},
     "output_type": "execute_result"
    }
   ],
   "source": [
    "let layout = Layout(title = \"Basic Bar Chart\")\n",
    "\n",
    "// List of tuples\n",
    "let data1 = [\"giraffes\", 20; \"orangutans\", 14; \"monkeys\", 23]\n",
    "\n",
    "// Another list of tuples\n",
    "let data2 = [\"giraffes\", 15; \"orangutans\", 16; \"monkeys\", 21]\n",
    "\n",
    "// A list of lists\n",
    "[data1; data2]\n",
    "|> Chart.Bar\n",
    "|> Chart.WithLayout layout\n",
    "|> Chart.WithHeight 500\n",
    "|> Chart.WithWidth 700"
   ]
  },
  {
   "cell_type": "markdown",
   "metadata": {},
   "source": [
    "You can also use a `Plot` to contain other chart types. "
   ]
  },
  {
   "cell_type": "code",
   "execution_count": 2,
   "metadata": {},
   "outputs": [
    {
     "data": {
      "text/html": [
       "<div id=\"3a970c99-8283-4969-abd9-b26c81d55c02\" style=\"width: 700px; height: 500px;\"></div>\r\n",
       "<script type=\"text/javascript\">\r\n",
       "\r\n",
       "var renderPlotly = function() {\r\n",
       "    var xplotRequire = requirejs.config({context:'xplot-3.0.1',paths:{plotly:'https://cdn.plot.ly/plotly-1.49.2.min'}});\r\n",
       "    xplotRequire(['plotly'], function(Plotly) {\r\n",
       "\n",
       "            var data = [{\"type\":\"bar\",\"x\":[\"giraffes\",\"orangutans\",\"monkeys\"],\"y\":[20,14,23],\"name\":\"SF Zoo\"},{\"type\":\"bar\",\"x\":[\"giraffes\",\"orangutans\",\"monkeys\"],\"y\":[12,18,29],\"name\":\"LA Zoo\"}];\n",
       "            var layout = {\"barmode\":\"group\"};\n",
       "            Plotly.newPlot('3a970c99-8283-4969-abd9-b26c81d55c02', data, layout);\n",
       "        \r\n",
       "});\r\n",
       "};\r\n",
       "if ((typeof(requirejs) !==  typeof(Function)) || (typeof(requirejs.config) !== typeof(Function))) { \r\n",
       "    var script = document.createElement(\"script\"); \r\n",
       "    script.setAttribute(\"src\", \"https://cdnjs.cloudflare.com/ajax/libs/require.js/2.3.6/require.min.js\"); \r\n",
       "    script.onload = function(){\r\n",
       "        renderPlotly();\r\n",
       "    };\r\n",
       "    document.getElementsByTagName(\"head\")[0].appendChild(script); \r\n",
       "}\r\n",
       "else {\r\n",
       "    renderPlotly();\r\n",
       "}\r\n",
       "</script>\r\n"
      ]
     },
     "execution_count": 2,
     "metadata": {},
     "output_type": "execute_result"
    }
   ],
   "source": [
    "let groupedTrace1 =\n",
    "    Bar(\n",
    "        x = [\"giraffes\"; \"orangutans\"; \"monkeys\"],\n",
    "        y = [20; 14; 23],\n",
    "        name= \"SF Zoo\"            \n",
    "    )\n",
    "\n",
    "let groupedTrace2 =\n",
    "    Bar(\n",
    "        x = [\"giraffes\"; \"orangutans\"; \"monkeys\"],\n",
    "        y = [12; 18; 29],\n",
    "        name = \"LA Zoo\"\n",
    "    )\n",
    "\n",
    "let groupedLayout = Layout(barmode = \"group\")\n",
    "\n",
    "[groupedTrace1; groupedTrace2]\n",
    "|> Chart.Plot\n",
    "|> Chart.WithLayout groupedLayout\n",
    "|> Chart.WithHeight 500\n",
    "|> Chart.WithWidth 700\n"
   ]
  },
  {
   "cell_type": "markdown",
   "metadata": {},
   "source": [
    "I recommend reading the documentation for more examples on how to use XPlot.\n",
    "\n",
    "Lets see if we can read our CSV file and create a chart grouped by `group` and `gender`.  It requires a bit of transformation because we need to define a data series for each gender defined bar a `Bar` element, where `x` is a sequence of the group names and `y` is a sequence of total premiums for that group.  The name of each data series is the gender."
   ]
  },
  {
   "cell_type": "code",
   "execution_count": 3,
   "metadata": {
    "scrolled": true
   },
   "outputs": [
    {
     "data": {
      "text/html": [
       "Installed package FSharp.Data version *"
      ]
     },
     "metadata": {},
     "output_type": "display_data"
    },
    {
     "name": "stdout",
     "output_type": "stream",
     "text": [
      "=============== S T A R T ==========================================\n",
      ">>>> C:\\Users\\Jakob\\.nuget\\packages\\fsharp.data\\3.3.3\\typeproviders\\fsharp41\\netstandard2.0\\FSharp.Data.DesignTime.dll\n",
      ">>>> C:\\Users\\Jakob\\.nuget\\packages\\fsharp.data\\3.3.3\\lib\\netstandard2.0\\FSharp.Data.DesignTime.dll\n",
      "Using: C:\\Users\\Jakob\\.nuget\\packages\\fsharp.data\\3.3.3\\typeproviders\\fsharp41\\netstandard2.0\\FSharp.Data.DesignTime.dll\n"
     ]
    },
    {
     "data": {
      "text/html": [
       "<div id=\"65806224-d43b-441b-b377-cd9af2a70291\" style=\"width: 700px; height: 300px;\"></div>\r\n",
       "<script type=\"text/javascript\">\r\n",
       "\r\n",
       "var renderPlotly = function() {\r\n",
       "    var xplotRequire = requirejs.config({context:'xplot-3.0.1',paths:{plotly:'https://cdn.plot.ly/plotly-1.49.2.min'}});\r\n",
       "    xplotRequire(['plotly'], function(Plotly) {\r\n",
       "\n",
       "            var data = [{\"type\":\"bar\",\"x\":[\"R2\"],\"y\":[650.0],\"name\":\"m\"},{\"type\":\"bar\",\"x\":[\"R3\",\"R2\"],\"y\":[425.0,167.0],\"name\":\"f\"}];\n",
       "            var layout = {\"barmode\":\"group\"};\n",
       "            Plotly.newPlot('65806224-d43b-441b-b377-cd9af2a70291', data, layout);\n",
       "        \r\n",
       "});\r\n",
       "};\r\n",
       "if ((typeof(requirejs) !==  typeof(Function)) || (typeof(requirejs.config) !== typeof(Function))) { \r\n",
       "    var script = document.createElement(\"script\"); \r\n",
       "    script.setAttribute(\"src\", \"https://cdnjs.cloudflare.com/ajax/libs/require.js/2.3.6/require.min.js\"); \r\n",
       "    script.onload = function(){\r\n",
       "        renderPlotly();\r\n",
       "    };\r\n",
       "    document.getElementsByTagName(\"head\")[0].appendChild(script); \r\n",
       "}\r\n",
       "else {\r\n",
       "    renderPlotly();\r\n",
       "}\r\n",
       "</script>\r\n"
      ]
     },
     "execution_count": 3,
     "metadata": {},
     "output_type": "execute_result"
    }
   ],
   "source": [
    "#r \"nuget: FSharp.Data\"\n",
    "open FSharp.Data\n",
    "\n",
    "type PoliciesProvider = CsvProvider<Sample=\"PersonId;PolicyNumber;Age;Group;Gender;Premium;TechnicalProvision\", Culture=\"da-DK\", Separators=\";\", Schema=\"Premium=decimal, TechnicalProvision=decimal\">\n",
    "let policies = PoliciesProvider.Load(\"https://raw.githubusercontent.com/t4rzsan/fsharp-for-actuaries/master/Policies.csv\").Rows\n",
    "\n",
    "let groupedLayout = Layout(barmode = \"group\")\n",
    "\n",
    "policies\n",
    "|> Seq.groupBy (fun p -> p.Gender)\n",
    "|> Seq.map (fun (gender, rows) -> \n",
    "            // Generate tuple with gender and sequence of tuples with (group, premium)\n",
    "            gender, \n",
    "            rows \n",
    "            |> Seq.groupBy (fun row -> row.Group)\n",
    "            |> Seq.map (fun (group, groupRows) -> \n",
    "                        group, \n",
    "                        groupRows \n",
    "                        |> Seq.sumBy (fun groupRow -> groupRow.Premium))\n",
    "           )\n",
    "|> Seq.map (fun (gender, data) ->\n",
    "                Bar(\n",
    "                    x = (data |> Seq.map (fun (group, _) -> group)),\n",
    "                    y = (data |> Seq.map (fun (_, premium) -> premium)),\n",
    "                    name = gender\n",
    "                )\n",
    "           )\n",
    "|> Chart.Plot\n",
    "|> Chart.WithLayout groupedLayout\n",
    "|> Chart.WithHeight 300\n",
    "|> Chart.WithWidth 700\n"
   ]
  },
  {
   "cell_type": "markdown",
   "metadata": {},
   "source": [
    "This way of doing it is still correct if more groups or genders are added to the CSV file.  However, it is a pain to read and understand.  Creating helper functions may help on readability and also testability if you write unit tests.  Let us define a couple of helper functions."
   ]
  },
  {
   "cell_type": "code",
   "execution_count": 4,
   "metadata": {},
   "outputs": [
    {
     "data": {
      "text/html": [
       "<div id=\"26bd5e05-2706-4565-8da2-c5752c1467d8\" style=\"width: 700px; height: 300px;\"></div>\r\n",
       "<script type=\"text/javascript\">\r\n",
       "\r\n",
       "var renderPlotly = function() {\r\n",
       "    var xplotRequire = requirejs.config({context:'xplot-3.0.1',paths:{plotly:'https://cdn.plot.ly/plotly-1.49.2.min'}});\r\n",
       "    xplotRequire(['plotly'], function(Plotly) {\r\n",
       "\n",
       "            var data = [{\"type\":\"bar\",\"x\":[\"R2\"],\"y\":[650.0],\"name\":\"m\"},{\"type\":\"bar\",\"x\":[\"R3\",\"R2\"],\"y\":[425.0,167.0],\"name\":\"f\"}];\n",
       "            var layout = {\"barmode\":\"group\"};\n",
       "            Plotly.newPlot('26bd5e05-2706-4565-8da2-c5752c1467d8', data, layout);\n",
       "        \r\n",
       "});\r\n",
       "};\r\n",
       "if ((typeof(requirejs) !==  typeof(Function)) || (typeof(requirejs.config) !== typeof(Function))) { \r\n",
       "    var script = document.createElement(\"script\"); \r\n",
       "    script.setAttribute(\"src\", \"https://cdnjs.cloudflare.com/ajax/libs/require.js/2.3.6/require.min.js\"); \r\n",
       "    script.onload = function(){\r\n",
       "        renderPlotly();\r\n",
       "    };\r\n",
       "    document.getElementsByTagName(\"head\")[0].appendChild(script); \r\n",
       "}\r\n",
       "else {\r\n",
       "    renderPlotly();\r\n",
       "}\r\n",
       "</script>\r\n"
      ]
     },
     "execution_count": 4,
     "metadata": {},
     "output_type": "execute_result"
    }
   ],
   "source": [
    "let createGroupPremiums (group, groupRows: PoliciesProvider.Row seq) =\n",
    "    group, \n",
    "    groupRows \n",
    "    |> Seq.sumBy (fun groupRow -> groupRow.Premium)\n",
    "    \n",
    "let createChartBar (gender, data) = \n",
    "    Bar(\n",
    "        x = (data |> Seq.map (fun (group, _) -> group)),\n",
    "        y = (data |> Seq.map (fun (_, premium) -> premium)),\n",
    "        name = gender\n",
    "    )\n",
    "    \n",
    "policies\n",
    "|> Seq.groupBy (fun p -> p.Gender)\n",
    "|> Seq.map (fun (gender, rows) -> \n",
    "            // Generate tuple with gender and sequence of tuples with (group, premium)\n",
    "            gender, \n",
    "            rows \n",
    "            |> Seq.groupBy (fun row -> row.Group)\n",
    "            |> Seq.map createGroupPremiums\n",
    "           )\n",
    "|> Seq.map createChartBar\n",
    "|> Chart.Plot\n",
    "|> Chart.WithLayout groupedLayout\n",
    "|> Chart.WithHeight 300\n",
    "|> Chart.WithWidth 700\n"
   ]
  },
  {
   "cell_type": "markdown",
   "metadata": {},
   "source": [
    "Now, the intent of the code is hopefully clearer.\n",
    "\n",
    "Did you notice that I used parentheses in the argument list for the two functions in lines 1 and 6, even though I told you earlier that function argument lists are not surrounded by parentheses in F#.  Well, actually both functions each have one argument only, and that argument is a tuple type and often tuple types are surrounded with parentheses.  You could also define `createCharBar` like below which would make it clearer that there is actually only on argument.\n",
    "\n",
    "```fsharp\n",
    "let createChartBar genderData = \n",
    "    // Use pattern matching to deconstruct the tuple.\n",
    "    let (gender, data) = genderData\n",
    "    Bar(\n",
    "        x = (data |> Seq.map (fun (group, _) -> group)),\n",
    "        y = (data |> Seq.map (fun (_, premium) -> premium)),\n",
    "        name = gender\n",
    "    )```\n",
    "    \n",
    "In general it is a easier and clearer to use record types or anonymous types instead of tuples.  But the charts require tuples so that is why we used tuples above."
   ]
  }
 ],
 "metadata": {
  "kernelspec": {
   "display_name": ".NET (F#)",
   "language": "F#",
   "name": ".net-fsharp"
  },
  "language_info": {
   "file_extension": ".fs",
   "mimetype": "text/x-fsharp",
   "name": "C#",
   "pygments_lexer": "fsharp",
   "version": "4.5"
  }
 },
 "nbformat": 4,
 "nbformat_minor": 4
}
