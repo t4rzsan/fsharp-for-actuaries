{
 "cells": [
  {
   "cell_type": "markdown",
   "metadata": {},
   "source": [
    "# Visualizing Data\n",
    "They say that a picture is worth a thousand words and often looking at data in a chart reveals a whole lot more than by merely looking at numbers in a table.  In the previous examples you have already seen how easy it is to draw charts in F#.  We did that with the [XPlot](https://fslab.org/XPlot/) library (which is built into Jupyter Notebook).  XPlot is a F# friendly wrapper on top of [Google Plots](https://fslab.org/XPlot/google-charts.html) and [Plotly](https://fslab.org/XPlot/plotly.html).  "
   ]
  }
 ],
 "metadata": {
  "kernelspec": {
   "display_name": ".NET (F#)",
   "language": "F#",
   "name": ".net-fsharp"
  },
  "language_info": {
   "file_extension": ".fs",
   "mimetype": "text/x-fsharp",
   "name": "C#",
   "pygments_lexer": "fsharp",
   "version": "4.5"
  }
 },
 "nbformat": 4,
 "nbformat_minor": 2
}
