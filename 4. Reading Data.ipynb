{
 "cells": [
  {
   "cell_type": "markdown",
   "metadata": {},
   "source": [
    "# Reading Data\n",
    "Now that we have the building blocks, types and functions, in place, we can start working with actual data.  Usually you'd read data from CSV files and from databases.\n",
    "\n",
    "## Reading from CSV files\n",
    "The easiest way for you to read data from a CSV file is to use the F# [CSV type provider](https://fsharp.github.io/FSharp.Data/library/CsvProvider.html).  The type provider reads the file and automatically generates types based on the columns in the file, which makes it very easy for you to handle the data."
   ]
  },
  {
   "cell_type": "code",
   "execution_count": null,
   "metadata": {},
   "outputs": [],
   "source": []
  }
 ],
 "metadata": {
  "kernelspec": {
   "display_name": ".NET (F#)",
   "language": "F#",
   "name": ".net-fsharp"
  },
  "language_info": {
   "file_extension": ".fs",
   "mimetype": "text/x-fsharp",
   "name": "C#",
   "pygments_lexer": "fsharp",
   "version": "4.5"
  }
 },
 "nbformat": 4,
 "nbformat_minor": 2
}
