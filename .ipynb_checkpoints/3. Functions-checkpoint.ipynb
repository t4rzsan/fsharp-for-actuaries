{
 "cells": [
  {
   "cell_type": "markdown",
   "metadata": {},
   "source": [
    "# Functions\n",
    "As you might have guess, functions are really important in a functional language.  Functions are where the real work is done in a program.  A function in F# takes some data as input and creates some new data a output.  A really important concept in functional programming is that you can *combine* or *compose* functions to create new functions.\n",
    "\n",
    "In F# a function is a value just like any other value, so you define a function with the `let` keyword.  A function is defined by its name, arguments (input) and ouput type.  In other programming languages you ususally see arguments surrounded by parentheses and commas, but not in  F#.\n",
    "\n",
    "Let us define our first function."
   ]
  },
  {
   "cell_type": "code",
   "execution_count": 35,
   "metadata": {},
   "outputs": [
    {
     "data": {
      "text/html": [
       "16"
      ]
     },
     "execution_count": 35,
     "metadata": {},
     "output_type": "execute_result"
    }
   ],
   "source": [
    "let square x =\n",
    "    x * x\n",
    "    \n",
    "square 4"
   ]
  },
  {
   "cell_type": "markdown",
   "metadata": {},
   "source": [
    "The `square` function takes one argument `x`.  Since we call `square` with an integer, F# will assume that `x` is an integer and the output value is also an integer.\n",
    "\n",
    "You can define functions with multiple arguments."
   ]
  },
  {
   "cell_type": "code",
   "execution_count": 36,
   "metadata": {},
   "outputs": [],
   "source": [
    "let add x y = \n",
    "    x + y"
   ]
  },
  {
   "cell_type": "markdown",
   "metadata": {},
   "source": [
    "You can also define functions that don't have a name with the `fun` keyword.  You have already used this in the example with `List.map`."
   ]
  },
  {
   "cell_type": "code",
   "execution_count": 37,
   "metadata": {},
   "outputs": [
    {
     "data": {
      "text/html": [
       "300"
      ]
     },
     "execution_count": 37,
     "metadata": {},
     "output_type": "execute_result"
    }
   ],
   "source": [
    "type PersonPremium = \n",
    "    {\n",
    "        PersonId: string;\n",
    "        Premium: decimal;\n",
    "    }\n",
    "    \n",
    "let data = \n",
    "    [\n",
    "        { PersonId = \"001\"; Premium = 100m };\n",
    "        { PersonId = \"002\"; Premium = 200m };\n",
    "    ]\n",
    "    \n",
    "let totalPremium =\n",
    "    data \n",
    "    |> List.map (fun p -> p.Premium)\n",
    "    |> List.sum\n",
    "    \n",
    "totalPremium"
   ]
  },
  {
   "cell_type": "markdown",
   "metadata": {},
   "source": [
    "## The Pipe Operator\n",
    "This brings us to the pipe operator `|>`.  By now, you have seen it used a couple of times.  The pipe operator replaces the last argument of the function on the left hand side with whatever is on the right hand side.  So lines 1 and 2 below are equivalent:"
   ]
  },
  {
   "cell_type": "code",
   "execution_count": 38,
   "metadata": {},
   "outputs": [
    {
     "data": {
      "text/html": [
       "16"
      ]
     },
     "execution_count": 38,
     "metadata": {},
     "output_type": "execute_result"
    }
   ],
   "source": [
    "4 |> square\n",
    "square 4"
   ]
  },
  {
   "cell_type": "markdown",
   "metadata": {},
   "source": [
    "Similarly, this:"
   ]
  },
  {
   "cell_type": "code",
   "execution_count": 39,
   "metadata": {},
   "outputs": [
    {
     "data": {
      "text/html": [
       "300"
      ]
     },
     "execution_count": 39,
     "metadata": {},
     "output_type": "execute_result"
    }
   ],
   "source": [
    "let totalpremium =\n",
    "    data \n",
    "    |> List.map (fun p -> p.Premium)\n",
    "    |> List.sum\n",
    "totalPremium"
   ]
  },
  {
   "cell_type": "markdown",
   "metadata": {},
   "source": [
    "... is equivalent to this:"
   ]
  },
  {
   "cell_type": "code",
   "execution_count": 40,
   "metadata": {},
   "outputs": [
    {
     "data": {
      "text/html": [
       "300"
      ]
     },
     "execution_count": 40,
     "metadata": {},
     "output_type": "execute_result"
    }
   ],
   "source": [
    "let listOfPremiums = List.map (fun p -> p.Premium) data\n",
    "let totalPremium = List.sum listOfPremiums\n",
    "totalPremium"
   ]
  },
  {
   "cell_type": "markdown",
   "metadata": {},
   "source": [
    "You might see why most people think the `|>` operator is very elegant.\n",
    "\n",
    "## Composition"
   ]
  },
  {
   "cell_type": "markdown",
   "metadata": {},
   "source": [
    "In mathematics you can compose functions $f: A \\mapsto B$, $g: B \\mapsto C$ as \n",
    "\n",
    "$$h = g \\circ f: A \\mapsto C.$$\n",
    "\n",
    "You can also put it as $h(X) = g(f(X))$.\n",
    "\n",
    "You can do the same in F# with the `>>` operator, just note that the operands are switched around, so that you would use `f >> g`.  Let's say you want to calculate a yearly fee for all your monthly premiums.  First you create a function `f` the calculates the yearly premium and then a function `g` that calculates the fee of 3 percent.  You want to combine those two to one function `h`."
   ]
  },
  {
   "cell_type": "code",
   "execution_count": 52,
   "metadata": {},
   "outputs": [
    {
     "data": {
      "text/html": [
       "3.60"
      ]
     },
     "execution_count": 52,
     "metadata": {},
     "output_type": "execute_result"
    }
   ],
   "source": [
    "\n",
    "type MonthlyPremium = MontlyPremium of decimal\n",
    "type AnnualPremium = AnnualPremium of decimal\n",
    "\n",
    "let f (MontlyPremium premium) = 12m * premium |> AnnualPremium\n",
    "let g (AnnualPremium premium) = 0.03m * premium\n",
    "\n",
    "let h = f >> g // In real life you would use better function names, right?\n",
    "let annualFee = h (MontlyPremium 10m)\n",
    "yearlyFee"
   ]
  },
  {
   "cell_type": "markdown",
   "metadata": {},
   "source": [
    "Note how we use single case discriminated unions to distinguish between monthly and annual premiums."
   ]
  },
  {
   "cell_type": "markdown",
   "metadata": {},
   "source": [
    "## Partial Application\n",
    "You can define new functions from existing functions by specifying some of the arguments (starting from the left) but not all.  This is called *partial application*.  Let us redefine the function above for calculating the fee to show how it is done."
   ]
  },
  {
   "cell_type": "code",
   "execution_count": 55,
   "metadata": {},
   "outputs": [
    {
     "data": {
      "text/html": [
       "3.60"
      ]
     },
     "execution_count": 55,
     "metadata": {},
     "output_type": "execute_result"
    }
   ],
   "source": [
    "let calculateFee fee (AnnualPremium premium) =\n",
    "    fee * premium\n",
    "    \n",
    "calculateFee 0.03m (AnnualPremium 120m)"
   ]
  },
  {
   "cell_type": "markdown",
   "metadata": {},
   "source": [
    "If the fee is always 3 percent throughout your program, it may get tiring to always type it out whenever you call `calculateFee`.  So using partial application you can define a new function with the fee set to 3 percent."
   ]
  },
  {
   "cell_type": "code",
   "execution_count": 59,
   "metadata": {},
   "outputs": [
    {
     "data": {
      "text/html": [
       "3.60"
      ]
     },
     "execution_count": 59,
     "metadata": {},
     "output_type": "execute_result"
    }
   ],
   "source": [
    "let calculateFee3Percent = \n",
    "    calculateFee 0.03m // Only specify the first argument\n",
    "    \n",
    "calculateFee3Percent (AnnualPremium 120m)"
   ]
  },
  {
   "cell_type": "markdown",
   "metadata": {},
   "source": [
    "The new function `calculateFee3Percent` is a function of 1 argument.  "
   ]
  }
 ],
 "metadata": {
  "kernelspec": {
   "display_name": ".NET (F#)",
   "language": "F#",
   "name": ".net-fsharp"
  },
  "language_info": {
   "file_extension": ".fs",
   "mimetype": "text/x-fsharp",
   "name": "C#",
   "pygments_lexer": "fsharp",
   "version": "4.5"
  }
 },
 "nbformat": 4,
 "nbformat_minor": 2
}
