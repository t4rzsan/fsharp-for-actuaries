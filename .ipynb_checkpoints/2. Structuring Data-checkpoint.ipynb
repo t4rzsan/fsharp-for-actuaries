{
 "cells": [
  {
   "cell_type": "markdown",
   "metadata": {},
   "source": [
    "# Structuring Data"
   ]
  },
  {
   "cell_type": "markdown",
   "metadata": {},
   "source": [
    "In Excel you typically organize data in tables where each column is of a a specific *type* like number, text string or date.  In R you use tye *types* Logical, Numeric, Integer or Character.  Similarly, F# has *types* and understanding the different kinds of types and when to use them is paramount to programming.\n",
    "\n",
    "F# has a lot of built-in typs such as `string`, `int` and `decimal` and it also has container types like `array`, `list` and `seq` (sequence) that can contain other items.  The .NET framework itself also has a lot of types that you can use, such as the commonly used `DateTime` type.\n",
    "\n",
    "## Values\n",
    "You use the `let` keyword to create values of a type."
   ]
  },
  {
   "cell_type": "code",
   "execution_count": 30,
   "metadata": {},
   "outputs": [],
   "source": [
    "let theAnswer = 42 // An integer\n",
    "let greeting = \"Hello world\" // A string\n",
    "let pi = 3.141 // A double"
   ]
  },
  {
   "cell_type": "markdown",
   "metadata": {},
   "source": [
    "Notice how you don't have to specify the type anywhere.  You just create the value and most of the time F# will figure out what type you intended.  F# will keep track of the types behind the scenes which is very useful when defining functions as you will see later.\n",
    "\n",
    "Values in F# are *immutable* by default.  That means you can never change a value once it has been created.  If you try, you will get an error."
   ]
  },
  {
   "cell_type": "code",
   "execution_count": 31,
   "metadata": {},
   "outputs": [
    {
     "ename": "Unhandled exception",
     "evalue": "input.fsx (1,1)-(1,16) typecheck error This value is not mutable. Consider using the mutable keyword, e.g. 'let mutable theAnswer = expression'.",
     "output_type": "error",
     "traceback": [
      "input.fsx (1,1)-(1,16) typecheck error This value is not mutable. Consider using the mutable keyword, e.g. 'let mutable theAnswer = expression'."
     ]
    }
   ],
   "source": [
    "theAnswer <- 43"
   ]
  },
  {
   "cell_type": "markdown",
   "metadata": {},
   "source": [
    "The best part about types is that you can create your own.  For example, you can create *records*, *discriminated unions*, *anonymous types* and *tuples*.\n",
    "\n",
    "## Records\n",
    "You have already created your own type in the first example, where you created the `PersonPolicy` type."
   ]
  },
  {
   "cell_type": "code",
   "execution_count": 32,
   "metadata": {},
   "outputs": [],
   "source": [
    "type PersonPolicy = \n",
    "    {\n",
    "        PersonId: string;\n",
    "        PolicyNumber: string;\n",
    "        Premium: decimal;\n",
    "    }"
   ]
  },
  {
   "cell_type": "markdown",
   "metadata": {},
   "source": [
    "As you can see, `PersonPolicy` is really just a combination of other types: `string` and `decimal`.  That way you can create an endless number of types by combining existing types.  This kind of type is called a *record* type.  It is also called a *product* type because its sample space is `string * string * decimal`."
   ]
  },
  {
   "cell_type": "code",
   "execution_count": 33,
   "metadata": {},
   "outputs": [],
   "source": [
    "let theAnswer = 42 // An integer\n",
    "let greeting = \"Hello world\" // A string\n",
    "let pi = 3.141 // A double\n",
    "let pp = \n",
    "    {\n",
    "        PersonId = \"123\";\n",
    "        PolicyNumber = \"Pol001\";\n",
    "        Premium = 10000m;\n",
    "    }"
   ]
  },
  {
   "cell_type": "markdown",
   "metadata": {},
   "source": [
    "> Why the `m` in line 8? Notice the `m` after the premium amount in line 8 above?  The `m` tells F# that you want a decimal and not an integer.  If you remove the `m`, you will get an error saying that F# cannot convert the integer 10000 to a decimal, since the Premium field is of type decimal.\n",
    "\n",
    "Since values are immutable, F# provides us with a very easy way to copy a record where you change some of the properties."
   ]
  },
  {
   "cell_type": "code",
   "execution_count": 34,
   "metadata": {},
   "outputs": [
    {
     "data": {
      "text/html": [
       "<table><thead><tr><th>PersonId</th><th>PolicyNumber</th><th>Premium</th></tr></thead><tbody><tr><td>123</td><td>Pol001</td><td>10000</td></tr></tbody></table>"
      ]
     },
     "metadata": {},
     "output_type": "display_data"
    },
    {
     "data": {
      "text/html": [
       "<table><thead><tr><th>PersonId</th><th>PolicyNumber</th><th>Premium</th></tr></thead><tbody><tr><td>123</td><td>Pol002</td><td>120</td></tr></tbody></table>"
      ]
     },
     "metadata": {},
     "output_type": "display_data"
    }
   ],
   "source": [
    "let ppCopy = { pp with PolicyNumber = \"Pol002\"; Premium = 120m; }\n",
    "\n",
    "display(pp)\n",
    "display(ppCopy)"
   ]
  },
  {
   "cell_type": "markdown",
   "metadata": {},
   "source": [
    "## Discriminated Unions\n",
    "Discriminated unions are a way of defining a type with mutually exclusive ways of creating values of that type.  It sounds weird but it is a really nice way to represent data.  Say for example that you have to policy systems in your company.  One is an old legacy system where policy numbers are represented as integers.  For the other newer system policy numbers are strings.  For this setup you might define the PersonPolicy like so."
   ]
  },
  {
   "cell_type": "code",
   "execution_count": 35,
   "metadata": {},
   "outputs": [],
   "source": [
    "type PolicyNumber =\n",
    "    | LegacyPolicyNumber of int\n",
    "    | NewPolicyNumber of string\n",
    "    \n",
    "type PersonPolicy2 =\n",
    "    {\n",
    "        PersonId: string;\n",
    "        PolicyNumber: PolicyNumber;\n",
    "        Premium: decimal;\n",
    "    }    "
   ]
  },
  {
   "cell_type": "markdown",
   "metadata": {},
   "source": [
    "Discriminated unions are also called *sum types*.  That is because a value of a discriminated union type can be *either* of the options.  For example, a policy number can be *either* `LegacyPolicyNumber` or `NewPolicyNumber`.\n",
    "\n",
    "Together with product types, sum types are called *Algebraic Data Types (ADT)*.\n",
    "\n",
    "The `PersonPolicy2` type is used like so."
   ]
  },
  {
   "cell_type": "code",
   "execution_count": 36,
   "metadata": {},
   "outputs": [
    {
     "data": {
      "text/html": [
       "<table><thead><tr><th>Item</th><th>Tag</th><th>IsLegacyPolicyNumber</th><th>IsNewPolicyNumber</th></tr></thead><tbody><tr><td>42</td><td>0</td><td>True</td><td>False</td></tr></tbody></table>"
      ]
     },
     "metadata": {},
     "output_type": "display_data"
    },
    {
     "data": {
      "text/html": [
       "<table><thead><tr><th>Item</th><th>Tag</th><th>IsLegacyPolicyNumber</th><th>IsNewPolicyNumber</th></tr></thead><tbody><tr><td>Pol01</td><td>1</td><td>False</td><td>True</td></tr></tbody></table>"
      ]
     },
     "metadata": {},
     "output_type": "display_data"
    }
   ],
   "source": [
    "let legacyPolicyPerson = \n",
    "    {\n",
    "        PersonId = \"1\";\n",
    "        PolicyNumber = LegacyPolicyNumber(42);\n",
    "        Premium = 1000m;\n",
    "    }\n",
    "    \n",
    "let newPolicyPerson =\n",
    "    {\n",
    "        PersonId = \"2\";\n",
    "        PolicyNumber = NewPolicyNumber(\"Pol01\");\n",
    "        Premium = 1200m;    \n",
    "    }\n",
    "\n",
    "display(legacyPolicyPerson.PolicyNumber)\n",
    "display(newPolicyPerson.PolicyNumber)"
   ]
  },
  {
   "cell_type": "markdown",
   "metadata": {},
   "source": [
    "Using discriminated unions like that gives you complete control and type safety when handling data.  In the above example, the discriminated union ensures that there is no doubt whether you are holding a legacy policy number or a new policy number.  The type tells us what it is.  Later on you will learn how to use *matching* to handle discriminated unions.\n",
    "\n",
    "Together with *pattern matching*, discriminated unions show their full power.  Usually you would use pattern matching with something similar to a switch statement in C# and other languages, but with more power.  For one, pattern matching in F# is *exhaustive* which means that the F# compiler will report an error if you do not provide a case for each of the values in your disciminated union.\n",
    "\n",
    "Let us see a small example of what pattern matching looks like."
   ]
  },
  {
   "cell_type": "code",
   "execution_count": 37,
   "metadata": {},
   "outputs": [
    {
     "name": "stdout",
     "output_type": "stream",
     "text": [
      "The legacy policy number is: 123\n",
      "The new policy number is: Pol123\n"
     ]
    },
    {
     "data": {
      "text/html": [
       "<null>"
      ]
     },
     "execution_count": 37,
     "metadata": {},
     "output_type": "execute_result"
    }
   ],
   "source": [
    "let printPolicyNumber policyNumber = \n",
    "    match policyNumber with\n",
    "    | LegacyPolicyNumber i -> printfn \"The legacy policy number is: %d\" i\n",
    "    | NewPolicyNumber s -> printfn \"The new policy number is: %s\" s\n",
    "    \n",
    "(LegacyPolicyNumber 123) |> printPolicyNumber\n",
    "(NewPolicyNumber \"Pol123\") |> printPolicyNumber\n"
   ]
  },
  {
   "cell_type": "markdown",
   "metadata": {},
   "source": [
    "The match expression starts in line 2 and each of the possible matches start with the pipe ('|') character.  For each match the value is deconstructed so you can easily access the policy number value inside the distriminated union.  If you remove either line 3 or line 4, the F# compiler would complain with the error \"the match cases were incomplete\".  This is very cool because if you one day decide to add another type of policy, the F# compiler would tell you where to fix the code."
   ]
  },
  {
   "cell_type": "markdown",
   "metadata": {},
   "source": [
    "### Options\n",
    "Probably one of the most important discriminated union in F# is the [`Option`](https://docs.microsoft.com/en-us/dotnet/fsharp/language-reference/options) type.  An option can be either `Some` or `None` where `None` means that the value does not exist.  For example, you would use `None` if a value read from a CSV file or from a database is missing.  Option values are set like so."
   ]
  },
  {
   "cell_type": "code",
   "execution_count": 38,
   "metadata": {},
   "outputs": [],
   "source": [
    "let existingValue = Some(42)\n",
    "let missingValue = None"
   ]
  },
  {
   "cell_type": "markdown",
   "metadata": {},
   "source": [
    "We will get back to options later in this guide.\n",
    "\n",
    "Option is a *generic type* because it can be used for any other type.  It can be an option of int (like above), and option of double or whatever.  You define generic types with generic parameters which means that you define types that use other types as parameters.  For example, if you were to define your own option type it would look something like this.  Yes, it is all a bit weird but very cool."
   ]
  },
  {
   "cell_type": "code",
   "execution_count": 39,
   "metadata": {},
   "outputs": [
    {
     "name": "stdout",
     "output_type": "stream",
     "text": [
      "Some \"abc\"\n",
      "None\n"
     ]
    },
    {
     "data": {
      "text/html": [
       "<null>"
      ]
     },
     "execution_count": 39,
     "metadata": {},
     "output_type": "execute_result"
    }
   ],
   "source": [
    "// 'a means \"generic type parameter\"\n",
    "type MyOption<'a> =\n",
    "    | Some of 'a\n",
    "    | None\n",
    "\n",
    "let a = Some(\"abc\") // a is of type MyOption<string> because we define 'a to be a string.\n",
    "let b = None\n",
    "\n",
    "printfn \"%A\" a\n",
    "printfn \"%A\" b\n"
   ]
  },
  {
   "cell_type": "markdown",
   "metadata": {},
   "source": [
    "### Single Case Discriminated Unions"
   ]
  },
  {
   "cell_type": "markdown",
   "metadata": {},
   "source": [
    "Let us say you have a function that creates a displayname from given name and surname (we will get to functions in the next chapter)."
   ]
  },
  {
   "cell_type": "code",
   "execution_count": 40,
   "metadata": {},
   "outputs": [
    {
     "data": {
      "text/plain": [
       "Jakob Christensen"
      ]
     },
     "execution_count": 40,
     "metadata": {},
     "output_type": "execute_result"
    }
   ],
   "source": [
    "let createDisplayName givenName surName =\n",
    "    givenName + \" \" + surName\n",
    "    \n",
    "let a = \"Jakob\"\n",
    "let b = \"Christensen\"\n",
    "createDisplayName a b"
   ]
  },
  {
   "cell_type": "markdown",
   "metadata": {},
   "source": [
    "Accidentally, you may call it with the parameters swapped because both parameters are of type `string` and therefore interchangeable."
   ]
  },
  {
   "cell_type": "code",
   "execution_count": 41,
   "metadata": {},
   "outputs": [
    {
     "data": {
      "text/plain": [
       "Christensen Jakob"
      ]
     },
     "execution_count": 41,
     "metadata": {},
     "output_type": "execute_result"
    }
   ],
   "source": [
    "createDisplayName b a"
   ]
  },
  {
   "cell_type": "markdown",
   "metadata": {},
   "source": [
    "Obviously, that is not what we want.  To make it harder for the caller to make this mistake, you can introduce single case discriminated unions."
   ]
  },
  {
   "cell_type": "code",
   "execution_count": 42,
   "metadata": {},
   "outputs": [
    {
     "data": {
      "text/plain": [
       "Jakob Christensen"
      ]
     },
     "execution_count": 42,
     "metadata": {},
     "output_type": "execute_result"
    }
   ],
   "source": [
    "// GivenName and SurName are single case discriminated unions\n",
    "type GivenName = GivenName of string\n",
    "type SurName = SurName of string\n",
    "\n",
    "// createDisplayName2 requires the parameters to be of type GivenName and SurName.\n",
    "// \"Deconstruct\" givenName and surName to get the actual string values inside.\n",
    "let createDisplayName2 (GivenName givenName) (SurName surName) =\n",
    "    givenName + \" \" + surName\n",
    "    \n",
    "// \"Construct\" a GivenName and a SurName\n",
    "let a2 = (GivenName \"Jakob\")\n",
    "let b2 = (SurName \"Christensen\")\n",
    "createDisplayName2 a2 b2"
   ]
  },
  {
   "cell_type": "markdown",
   "metadata": {},
   "source": [
    "If you accidentally switch the two arguments, you will get an error because the types `GivenName` and `SurName` are not considered the same by F#, even though they both contain strings."
   ]
  },
  {
   "cell_type": "code",
   "execution_count": 43,
   "metadata": {},
   "outputs": [
    {
     "ename": "Unhandled exception",
     "evalue": "input.fsx (1,20)-(1,22) typecheck error This expression was expected to have type\n    'GivenName'    \nbut here has type\n    'SurName'    \ninput.fsx (1,23)-(1,25) typecheck error This expression was expected to have type\n    'SurName'    \nbut here has type\n    'GivenName'    ",
     "output_type": "error",
     "traceback": [
      "input.fsx (1,20)-(1,22) typecheck error This expression was expected to have type\n    'GivenName'    \nbut here has type\n    'SurName'    \ninput.fsx (1,23)-(1,25) typecheck error This expression was expected to have type\n    'SurName'    \nbut here has type\n    'GivenName'    "
     ]
    }
   ],
   "source": [
    "createDisplayName2 b2 a2"
   ]
  },
  {
   "cell_type": "markdown",
   "metadata": {},
   "source": [
    "If you want to get the value \"inside\" a single case discriminated union, you need to deconstruct it.  The function `createDisplayName2` above shows how to do that easily for function parameters.  If you want to desconstruct without doing it as a function parameter, it is a bit more cumbersome.  This is how it is done."
   ]
  },
  {
   "cell_type": "code",
   "execution_count": 44,
   "metadata": {},
   "outputs": [
    {
     "data": {
      "text/plain": [
       "Jakob"
      ]
     },
     "execution_count": 44,
     "metadata": {},
     "output_type": "execute_result"
    }
   ],
   "source": [
    "let (GivenName deconstructedGivenName) = a2\n",
    "deconstructedGivenName"
   ]
  },
  {
   "cell_type": "markdown",
   "metadata": {},
   "source": [
    "## Collections\n",
    "A collection is a type that contains a list of other items.  Among others, F# has lists, arrays and sequences to contain other items in the same way that R has lists and arrays and Excel has table rows.  When you create a new collection, you tell F# what kind of items the collection contains.  It can be any type, like integers, string or `PersonPolicy2` items.  It can also be a collection of collections.  All items in a collection has to be of the same type.\n",
    "\n",
    "You have already seen an example of how to do that, like below where we create a list of `PersonPolicy2` items."
   ]
  },
  {
   "cell_type": "code",
   "execution_count": 45,
   "metadata": {},
   "outputs": [
    {
     "data": {
      "text/html": [
       "<table><thead><tr><th><i>index</i></th><th>PersonId</th><th>PolicyNumber</th><th>Premium</th></tr></thead><tbody><tr><td>0</td><td>P1</td><td>{ FSI_0039+PolicyNumber+NewPolicyNumber: Item: Pol01, Tag: 1, IsLegacyPolicyNumber: False, IsNewPolicyNumber: True }</td><td>100</td></tr><tr><td>1</td><td>P1</td><td>{ FSI_0039+PolicyNumber+NewPolicyNumber: Item: Pol02, Tag: 1, IsLegacyPolicyNumber: False, IsNewPolicyNumber: True }</td><td>200</td></tr><tr><td>2</td><td>P2</td><td>{ FSI_0039+PolicyNumber+NewPolicyNumber: Item: Pol03, Tag: 1, IsLegacyPolicyNumber: False, IsNewPolicyNumber: True }</td><td>150</td></tr><tr><td>3</td><td>P3</td><td>{ FSI_0039+PolicyNumber+NewPolicyNumber: Item: Pol04, Tag: 1, IsLegacyPolicyNumber: False, IsNewPolicyNumber: True }</td><td>250</td></tr><tr><td>4</td><td>P3</td><td>{ FSI_0039+PolicyNumber+NewPolicyNumber: Item: Pol05, Tag: 1, IsLegacyPolicyNumber: False, IsNewPolicyNumber: True }</td><td>350</td></tr></tbody></table>"
      ]
     },
     "execution_count": 45,
     "metadata": {},
     "output_type": "execute_result"
    }
   ],
   "source": [
    "let data = \n",
    "    [ \n",
    "        { PersonId = \"P1\"; PolicyNumber = (NewPolicyNumber \"Pol01\"); Premium = 100m };\n",
    "        { PersonId = \"P1\"; PolicyNumber = (NewPolicyNumber \"Pol02\"); Premium = 200m };\n",
    "        { PersonId = \"P2\"; PolicyNumber = (NewPolicyNumber \"Pol03\"); Premium = 150m };\n",
    "        { PersonId = \"P3\"; PolicyNumber = (NewPolicyNumber \"Pol04\"); Premium = 250m };\n",
    "        { PersonId = \"P3\"; PolicyNumber = (NewPolicyNumber \"Pol05\"); Premium = 350m };\n",
    "    ]\n",
    "    \n",
    "data"
   ]
  },
  {
   "cell_type": "markdown",
   "metadata": {},
   "source": [
    "You have already seen in the first example some of the cool stuff you can do with the functions from the `List` module.  We will get back to that later on."
   ]
  },
  {
   "cell_type": "markdown",
   "metadata": {},
   "source": [
    "F# has a third collection type called a sequence.  A sequence is similar to a list, except that sequences can be *lazily* evaluated, meaning that they can actually be infinite!  You can create sequences on the fly using a *sequence expression* with.  For examplte you can create a list of squared numbers like so. "
   ]
  },
  {
   "cell_type": "code",
   "execution_count": 46,
   "metadata": {},
   "outputs": [
    {
     "data": {
      "text/html": [
       "<table><thead><tr><th><i>index</i></th><th>value</th></tr></thead><tbody><tr><td>0</td><td>1</td></tr><tr><td>1</td><td>4</td></tr><tr><td>2</td><td>9</td></tr><tr><td>3</td><td>16</td></tr><tr><td>4</td><td>25</td></tr><tr><td>5</td><td>36</td></tr><tr><td>6</td><td>49</td></tr><tr><td>7</td><td>64</td></tr><tr><td>8</td><td>81</td></tr><tr><td>9</td><td>100</td></tr></tbody></table>"
      ]
     },
     "execution_count": 46,
     "metadata": {},
     "output_type": "execute_result"
    }
   ],
   "source": [
    "seq { for i in 1 .. 10 -> i * i }"
   ]
  },
  {
   "cell_type": "markdown",
   "metadata": {},
   "source": [
    "Another way to create sequences is to *yield* elements. "
   ]
  },
  {
   "cell_type": "code",
   "execution_count": 47,
   "metadata": {},
   "outputs": [
    {
     "data": {
      "text/html": [
       "<table><thead><tr><th><i>index</i></th><th>PersonId</th><th>PolicyNumber</th><th>Premium</th></tr></thead><tbody><tr><td>0</td><td>P1</td><td>{ FSI_0039+PolicyNumber+NewPolicyNumber: Item: Pol01, Tag: 1, IsLegacyPolicyNumber: False, IsNewPolicyNumber: True }</td><td>100</td></tr><tr><td>1</td><td>P1</td><td>{ FSI_0039+PolicyNumber+NewPolicyNumber: Item: Pol02, Tag: 1, IsLegacyPolicyNumber: False, IsNewPolicyNumber: True }</td><td>200</td></tr><tr><td>2</td><td>P2</td><td>{ FSI_0039+PolicyNumber+NewPolicyNumber: Item: Pol03, Tag: 1, IsLegacyPolicyNumber: False, IsNewPolicyNumber: True }</td><td>150</td></tr><tr><td>3</td><td>P3</td><td>{ FSI_0039+PolicyNumber+NewPolicyNumber: Item: Pol04, Tag: 1, IsLegacyPolicyNumber: False, IsNewPolicyNumber: True }</td><td>250</td></tr><tr><td>4</td><td>P3</td><td>{ FSI_0039+PolicyNumber+NewPolicyNumber: Item: Pol05, Tag: 1, IsLegacyPolicyNumber: False, IsNewPolicyNumber: True }</td><td>350</td></tr></tbody></table>"
      ]
     },
     "execution_count": 47,
     "metadata": {},
     "output_type": "execute_result"
    }
   ],
   "source": [
    "seq {\n",
    "    yield { PersonId = \"P1\"; PolicyNumber = (NewPolicyNumber \"Pol01\"); Premium = 100m }\n",
    "    yield { PersonId = \"P1\"; PolicyNumber = (NewPolicyNumber \"Pol02\"); Premium = 200m }\n",
    "    yield { PersonId = \"P2\"; PolicyNumber = (NewPolicyNumber \"Pol03\"); Premium = 150m }\n",
    "    yield { PersonId = \"P3\"; PolicyNumber = (NewPolicyNumber \"Pol04\"); Premium = 250m }\n",
    "    yield { PersonId = \"P3\"; PolicyNumber = (NewPolicyNumber \"Pol05\"); Premium = 350m }    \n",
    "}"
   ]
  },
  {
   "cell_type": "markdown",
   "metadata": {},
   "source": [
    "You will find more information on how to create sequences in the [Microsoft documentation](https://docs.microsoft.com/en-us/dotnet/fsharp/language-reference/sequences).\n",
    "\n",
    "You can create lists from sequences and vice versa using one of the functions `Seq.ofList`, `Seq.toList`, `List.ofSeq` and `List.toSeq`."
   ]
  },
  {
   "cell_type": "markdown",
   "metadata": {},
   "source": [
    "## Anonymous Types\n",
    "Anonymous types are like records without a name.  They are very useful when transforming data.  Let us revisit the first example where we created a record type `PersonPremium` for summing up premiums for a person's policies.\n",
    "\n",
    "```fsharp\n",
    "type PersonPremium = \n",
    "    {\n",
    "        PersonId: string;\n",
    "        Premium: decimal;\n",
    "    }\n",
    "```\n",
    "\n",
    "An anonymous type is defined with `{|` and `|}` like so."
   ]
  },
  {
   "cell_type": "code",
   "execution_count": 48,
   "metadata": {},
   "outputs": [
    {
     "data": {
      "text/html": [
       "<table><thead><tr><th>PersonId</th><th>Premium</th></tr></thead><tbody><tr><td>123</td><td>100</td></tr></tbody></table>"
      ]
     },
     "execution_count": 48,
     "metadata": {},
     "output_type": "execute_result"
    }
   ],
   "source": [
    "let v = \n",
    "    {|\n",
    "        PersonId = \"123\";\n",
    "        Premium = 100m;\n",
    "    |}\n",
    "    \n",
    "v"
   ]
  },
  {
   "cell_type": "markdown",
   "metadata": {},
   "source": [
    "So we can rewrite the original example using an anonymous type on the fly to hold the summed premiums, like so."
   ]
  },
  {
   "cell_type": "code",
   "execution_count": 49,
   "metadata": {},
   "outputs": [
    {
     "data": {
      "text/html": [
       "<table><thead><tr><th><i>index</i></th><th>PersonId</th><th>Premium</th></tr></thead><tbody><tr><td>0</td><td>P1</td><td>300</td></tr><tr><td>1</td><td>P2</td><td>150</td></tr><tr><td>2</td><td>P3</td><td>600</td></tr></tbody></table>"
      ]
     },
     "execution_count": 49,
     "metadata": {},
     "output_type": "execute_result"
    }
   ],
   "source": [
    "let groupedByPerson = \n",
    "    data\n",
    "    |> List.groupBy (fun personPolicy -> personPolicy.PersonId)\n",
    "    |> List.map (fun (personId, personPolicies) -> \n",
    "        {|  // Here begins the anonymous type\n",
    "            PersonId = personId; \n",
    "            Premium = personPolicies |> List.sumBy (fun personPolicy -> personPolicy.Premium) \n",
    "        |})\n",
    "    \n",
    "groupedByPerson"
   ]
  },
  {
   "cell_type": "markdown",
   "metadata": {},
   "source": [
    "## Tuples\n",
    "The last type we will discuss is the *tuple* type.  A tuple is a product type like records and anonymous types, except a tuple has no named records.  It is very easy to create a tuple.  All you have to do is write a comma-separated list of values, like so."
   ]
  },
  {
   "cell_type": "code",
   "execution_count": 50,
   "metadata": {},
   "outputs": [
    {
     "data": {
      "text/html": [
       "<table><thead><tr><th>Item1</th><th>Item2</th></tr></thead><tbody><tr><td>23</td><td>hello</td></tr></tbody></table>"
      ]
     },
     "execution_count": 50,
     "metadata": {},
     "output_type": "execute_result"
    }
   ],
   "source": [
    "let theTuple = (23, \"hello\")\n",
    "theTuple"
   ]
  },
  {
   "cell_type": "markdown",
   "metadata": {},
   "source": [
    "If you need get the values inside the tuple, you \"take it apart\" by deconstructing it, i.e. with *pattern matching*."
   ]
  },
  {
   "cell_type": "code",
   "execution_count": 51,
   "metadata": {},
   "outputs": [
    {
     "data": {
      "text/html": [
       "23"
      ]
     },
     "metadata": {},
     "output_type": "display_data"
    },
    {
     "data": {
      "text/plain": [
       "hello"
      ]
     },
     "metadata": {},
     "output_type": "display_data"
    }
   ],
   "source": [
    "let (theNumber, theString) = theTuple\n",
    "display(theNumber)\n",
    "display(theString)"
   ]
  },
  {
   "cell_type": "markdown",
   "metadata": {},
   "source": [
    "You have already used tuples in the first example when you created the plots.  Tuples were used for the labels and values in the graphs.  In line 2 below we map to a list of tuples."
   ]
  },
  {
   "cell_type": "code",
   "execution_count": 52,
   "metadata": {},
   "outputs": [
    {
     "data": {
      "text/html": [
       "<div id=\"a2ba8296-7d46-4b91-ad10-914245c88cff\" style=\"width: 900px; height: 500px;\"></div>\r\n",
       "<script type=\"text/javascript\">\r\n",
       "\r\n",
       "var renderPlotly = function() {\r\n",
       "    var xplotRequire = requirejs.config({context:'xplot-3.0.1',paths:{plotly:'https://cdn.plot.ly/plotly-1.49.2.min'}});\r\n",
       "    xplotRequire(['plotly'], function(Plotly) {\r\n",
       "\n",
       "            var data = [{\"type\":\"bar\",\"x\":[300.0,150.0,600.0],\"y\":[\"P1\",\"P2\",\"P3\"],\"orientation\":\"h\"}];\n",
       "            var layout = \"\";\n",
       "            Plotly.newPlot('a2ba8296-7d46-4b91-ad10-914245c88cff', data, layout);\n",
       "        \r\n",
       "});\r\n",
       "};\r\n",
       "if ((typeof(requirejs) !==  typeof(Function)) || (typeof(requirejs.config) !== typeof(Function))) { \r\n",
       "    var script = document.createElement(\"script\"); \r\n",
       "    script.setAttribute(\"src\", \"https://cdnjs.cloudflare.com/ajax/libs/require.js/2.3.6/require.min.js\"); \r\n",
       "    script.onload = function(){\r\n",
       "        renderPlotly();\r\n",
       "    };\r\n",
       "    document.getElementsByTagName(\"head\")[0].appendChild(script); \r\n",
       "}\r\n",
       "else {\r\n",
       "    renderPlotly();\r\n",
       "}\r\n",
       "</script>\r\n"
      ]
     },
     "execution_count": 52,
     "metadata": {},
     "output_type": "execute_result"
    }
   ],
   "source": [
    "groupedByPerson\n",
    "|> List.map (fun g -> g.PersonId, g.Premium)\n",
    "|> Chart.Bar"
   ]
  },
  {
   "cell_type": "markdown",
   "metadata": {},
   "source": [
    "Tuples are not limited to just two value.  You can put any number of values in a tuple."
   ]
  },
  {
   "cell_type": "code",
   "execution_count": 54,
   "metadata": {},
   "outputs": [
    {
     "data": {
      "text/html": [
       "<table><thead><tr><th>Item1</th><th>Item2</th><th>Item3</th><th>Item4</th></tr></thead><tbody><tr><td>hello</td><td>42</td><td>65.34</td><td>2020-09-17 11:44:30Z</td></tr></tbody></table>"
      ]
     },
     "metadata": {},
     "output_type": "display_data"
    },
    {
     "data": {
      "text/plain": [
       "hello"
      ]
     },
     "metadata": {},
     "output_type": "display_data"
    },
    {
     "data": {
      "text/html": [
       "42"
      ]
     },
     "metadata": {},
     "output_type": "display_data"
    },
    {
     "data": {
      "text/html": [
       "65.34"
      ]
     },
     "metadata": {},
     "output_type": "display_data"
    },
    {
     "data": {
      "text/html": [
       "2020-09-17 11:44:30Z"
      ]
     },
     "metadata": {},
     "output_type": "display_data"
    }
   ],
   "source": [
    "let tupleWithSeveralValues = \"hello\", 42, 65.34, DateTime.Now\n",
    "\n",
    "display(tupleWithSeveralValues)\n",
    "\n",
    "let (greeting, theAnswer, someNumber, today) = tupleWithSeveralValues\n",
    "\n",
    "display(greeting)\n",
    "display(theAnswer)\n",
    "display(someNumber)\n",
    "display(today)"
   ]
  }
 ],
 "metadata": {
  "kernelspec": {
   "display_name": ".NET (F#)",
   "language": "F#",
   "name": ".net-fsharp"
  },
  "language_info": {
   "file_extension": ".fs",
   "mimetype": "text/x-fsharp",
   "name": "C#",
   "pygments_lexer": "fsharp",
   "version": "4.5"
  }
 },
 "nbformat": 4,
 "nbformat_minor": 4
}
