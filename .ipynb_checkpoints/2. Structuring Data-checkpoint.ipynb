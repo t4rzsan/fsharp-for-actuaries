{
 "cells": [
  {
   "cell_type": "markdown",
   "metadata": {},
   "source": [
    "# Structuring Data"
   ]
  },
  {
   "cell_type": "markdown",
   "metadata": {},
   "source": [
    "In Excel you typically organize data in tables where each column is of a a specific *type* like number, text string or date.  In R you use vector, matrix, list and array and your values are of *type* Logical, Numeric, Integer or Character.  Similarly, F# has *types*.\n",
    "\n",
    "F# has a lot of built-in typs such as `string`, `int` and `decimal` and it also has container types like `array`, `list` and `seq` (sequence) that can contain other items.  The .NET framework itself also has a lot of types that you can use, such as the commonly used `DateTime` type.\n",
    "\n",
    "## Values\n",
    "You use the `let` keyword to create values of a type."
   ]
  },
  {
   "cell_type": "code",
   "execution_count": 19,
   "metadata": {},
   "outputs": [],
   "source": [
    "let theAnswer = 42 // An integer\n",
    "let greeting = \"Hello world\" // A string\n",
    "let pi = 3.141 // A double"
   ]
  },
  {
   "cell_type": "markdown",
   "metadata": {},
   "source": [
    "Notice how you don't have to specify the type anywhere.  You just create the value and most of the time F# will figure out what type you intended.  F# will keep track of the types behind the scenes which is very useful when defining functions as you will see later.\n",
    "\n",
    "Values in F# are *immutable* by default.  That means you can never change a value once it has been created.  If you try, you will get an error."
   ]
  },
  {
   "cell_type": "code",
   "execution_count": 20,
   "metadata": {},
   "outputs": [
    {
     "name": "stderr",
     "output_type": "stream",
     "text": [
      "Stopped due to error\n"
     ]
    },
    {
     "ename": "Unhandled exception",
     "evalue": "input.fsx (1,1)-(1,16) typecheck error This value is not mutable. Consider using the mutable keyword, e.g. 'let mutable theAnswer = expression'.",
     "output_type": "error",
     "traceback": [
      "input.fsx (1,1)-(1,16) typecheck error This value is not mutable. Consider using the mutable keyword, e.g. 'let mutable theAnswer = expression'."
     ]
    }
   ],
   "source": [
    "theAnswer <- 43"
   ]
  },
  {
   "cell_type": "markdown",
   "metadata": {},
   "source": [
    "The best part about types is that you can create your own.  You can create *records* and *discriminated unions*.\n",
    "\n",
    "## Records\n",
    "You have already created your own type in the first example, where you created the `PersonPolicy` type."
   ]
  },
  {
   "cell_type": "code",
   "execution_count": 21,
   "metadata": {},
   "outputs": [],
   "source": [
    "type PersonPolicy = \n",
    "    {\n",
    "        PersonId: string;\n",
    "        PolicyNumber: string;\n",
    "        Premium: decimal;\n",
    "    }"
   ]
  },
  {
   "cell_type": "markdown",
   "metadata": {},
   "source": [
    "As you can see, `PersonPolicy` is really just a combination of other types: `string` and `decimal`.  That way you can create an endless number of types by combining existing types.  This kind of type is called a *record* type.  It is also called a *product* type because its sample space is `string * string * decimal`."
   ]
  },
  {
   "cell_type": "code",
   "execution_count": 22,
   "metadata": {},
   "outputs": [],
   "source": [
    "let theAnswer = 42 // An integer\n",
    "let greeting = \"Hello world\" // A string\n",
    "let pi = 3.141 // A double\n",
    "let pp = \n",
    "    {\n",
    "        PersonId = \"123\";\n",
    "        PolicyNumber = \"Pol001\";\n",
    "        Premium = 10000m;\n",
    "    }"
   ]
  },
  {
   "cell_type": "markdown",
   "metadata": {},
   "source": [
    "> Why the `m`? Notice the `m` after the premium amount in line 8 above?  The `m` tells F# that you want a decimal and not an integer.  If you remove the `m`, you will get an error saying that F# cannot convert the integer 10000 to a decimal, since the Premium field is of type decimal.\n",
    "\n",
    "## Discriminated Unions\n",
    "Discriminated unions are a way of defining a type with mutually exclusive ways of creating values of that type.  It sounds weird but it is a really nice way to represent data.  Say for example that you have to policy systems in your company.  One is an old legacy system where policy numbers are represented as integers.  For the other newer system policy numbers are strings.  For this setup you might define the PersonPolicy like so."
   ]
  },
  {
   "cell_type": "code",
   "execution_count": 23,
   "metadata": {},
   "outputs": [],
   "source": [
    "type PolicyNumber =\n",
    "    | LegacyPolicyNumber of int\n",
    "    | NewPolicyNumber of string\n",
    "    \n",
    "type PersonPolicy2 =\n",
    "    {\n",
    "        PersonId: string;\n",
    "        PolicyNumber: PolicyNumber;\n",
    "        Premium: decimal;\n",
    "    }    "
   ]
  },
  {
   "cell_type": "markdown",
   "metadata": {},
   "source": [
    "The `PersonPolicy2` type is used like so."
   ]
  },
  {
   "cell_type": "code",
   "execution_count": 24,
   "metadata": {},
   "outputs": [
    {
     "data": {
      "text/html": [
       "<table><thead><tr><th>Item</th></tr></thead><tbody><tr><td>42</td></tr></tbody></table>"
      ]
     },
     "metadata": {},
     "output_type": "display_data"
    },
    {
     "data": {
      "text/html": [
       "<table><thead><tr><th>Item</th></tr></thead><tbody><tr><td>Pol01</td></tr></tbody></table>"
      ]
     },
     "metadata": {},
     "output_type": "display_data"
    }
   ],
   "source": [
    "let legacyPolicyPerson = \n",
    "    {\n",
    "        PersonId = \"1\";\n",
    "        PolicyNumber = LegacyPolicyNumber(42);\n",
    "        Premium = 1000m;\n",
    "    }\n",
    "    \n",
    "let newPolicyPerson =\n",
    "    {\n",
    "        PersonId = \"2\";\n",
    "        PolicyNumber = NewPolicyNumber(\"Pol01\");\n",
    "        Premium = 1200m;    \n",
    "    }\n",
    "\n",
    "display(legacyPolicyPerson.PolicyNumber)\n",
    "display(newPolicyPerson.PolicyNumber)"
   ]
  },
  {
   "cell_type": "markdown",
   "metadata": {},
   "source": [
    "Using discriminated unions like that gives you complete control and type safety when handling data.  In the above example, the discriminated union ensures that there is no doubt whether you are holding a legacy policy number or a new policy number.  The type tells us what it is.  Later on you will learn how to use *matching* to handle discriminated unions.\n",
    "\n",
    "### Options\n",
    "Probably the most important discriminated union in F# is the [`Option`](https://docs.microsoft.com/en-us/dotnet/fsharp/language-reference/options) type.  An option can be either `Some` or `None` where `None` means that the value does not exist.  For example, you would use `None` if a value read from a CSV file or from a database is missing.  Option values are set like so."
   ]
  },
  {
   "cell_type": "code",
   "execution_count": 25,
   "metadata": {},
   "outputs": [],
   "source": [
    "let existingValue = Some(42)\n",
    "let missingValue = None"
   ]
  },
  {
   "cell_type": "markdown",
   "metadata": {},
   "source": [
    "### Single Case Discriminated Unions"
   ]
  },
  {
   "cell_type": "markdown",
   "metadata": {},
   "source": [
    "Let us say you have a function that creates a displayname from given name and surname (we will get to functions in the next chapter)."
   ]
  },
  {
   "cell_type": "code",
   "execution_count": 26,
   "metadata": {},
   "outputs": [
    {
     "data": {
      "text/plain": [
       "Jakob Christensen"
      ]
     },
     "execution_count": 26,
     "metadata": {},
     "output_type": "execute_result"
    }
   ],
   "source": [
    "let createDisplayName givenName surName =\n",
    "    givenName + \" \" + surName\n",
    "    \n",
    "let a = \"Jakob\"\n",
    "let b = \"Christensen\"\n",
    "createDisplayName a b"
   ]
  },
  {
   "cell_type": "markdown",
   "metadata": {},
   "source": [
    "Accidentally, you may call it like this because both parameters are of type `string` and therefore interchangeable."
   ]
  },
  {
   "cell_type": "code",
   "execution_count": 27,
   "metadata": {},
   "outputs": [
    {
     "data": {
      "text/plain": [
       "Christensen Jakob"
      ]
     },
     "execution_count": 27,
     "metadata": {},
     "output_type": "execute_result"
    }
   ],
   "source": [
    "createDisplayName b a"
   ]
  },
  {
   "cell_type": "markdown",
   "metadata": {},
   "source": [
    "To make it harder for the caller to make this mistake, you can introduce single case discriminated unions."
   ]
  },
  {
   "cell_type": "code",
   "execution_count": 28,
   "metadata": {},
   "outputs": [
    {
     "data": {
      "text/plain": [
       "Jakob Christensen"
      ]
     },
     "execution_count": 28,
     "metadata": {},
     "output_type": "execute_result"
    }
   ],
   "source": [
    "// GivenName and SurName are single case discriminated unions\n",
    "type GivenName = GivenName of string\n",
    "type SurName = SurName of string\n",
    "\n",
    "// createDisplayName2 requires the parameters to be of type GivenName and SurName.\n",
    "// \"Deconstruct\" givenName and surName to get the actual string values inside.\n",
    "let createDisplayName2 (GivenName givenName) (SurName surName) =\n",
    "    givenName + \" \" + surName\n",
    "    \n",
    "// \"Construct\" a GivenName and a SurName\n",
    "let a2 = (GivenName \"Jakob\")\n",
    "let b2 = (SurName \"Christensen\")\n",
    "createDisplayName2 a2 b2"
   ]
  },
  {
   "cell_type": "markdown",
   "metadata": {},
   "source": [
    "If you accidentally switch the two arguments, you will get an error because the types `GivenName` and `SurName` are not considered the same by F#, even though they both contain strings."
   ]
  },
  {
   "cell_type": "code",
   "execution_count": 29,
   "metadata": {},
   "outputs": [
    {
     "name": "stderr",
     "output_type": "stream",
     "text": [
      "Stopped due to error\n"
     ]
    },
    {
     "ename": "Unhandled exception",
     "evalue": "input.fsx (1,20)-(1,22) typecheck error This expression was expected to have type\n    'GivenName'    \nbut here has type\n    'SurName'    \ninput.fsx (1,23)-(1,25) typecheck error This expression was expected to have type\n    'SurName'    \nbut here has type\n    'GivenName'    ",
     "output_type": "error",
     "traceback": [
      "input.fsx (1,20)-(1,22) typecheck error This expression was expected to have type\n    'GivenName'    \nbut here has type\n    'SurName'    \ninput.fsx (1,23)-(1,25) typecheck error This expression was expected to have type\n    'SurName'    \nbut here has type\n    'GivenName'    "
     ]
    }
   ],
   "source": [
    "createDisplayName2 b2 a2"
   ]
  },
  {
   "cell_type": "markdown",
   "metadata": {},
   "source": [
    "If you want to get the value \"inside\" a single case discriminated union, you need to deconstruct it.  The function `createDisplayName2` above shows how to do that easily for function parameters.  If you want to desconstruct without doing it as a function parameter, it is a bit more cumbersome.  This is how it is done."
   ]
  },
  {
   "cell_type": "code",
   "execution_count": 30,
   "metadata": {},
   "outputs": [
    {
     "data": {
      "text/plain": [
       "Jakob"
      ]
     },
     "execution_count": 30,
     "metadata": {},
     "output_type": "execute_result"
    }
   ],
   "source": [
    "let (GivenName deconstructedGivenName) = a2\n",
    "deconstructedGivenName"
   ]
  },
  {
   "cell_type": "markdown",
   "metadata": {},
   "source": [
    "## Lists and Arrays\n",
    "F# has lists and arrays to contain other items in the same way that R has lists and arrays and Excel has table rows.  Lists and arrays are also called collections.  When you create a new collection, you tell F# what kind of items the collection contains.  It can be any type, like integers, string or `PersonPolicy2` items.  It can also be a collection of collections.  All items in a collection has to be of the same type.\n",
    "\n",
    "F# has a third collection type called a sequence.  A sequence is similar to a list, except that sequences can be `lazily` evaluated, meaning that they can actually be infinite!  Sequences are used more frequently than lists in F# but for now we will stick to lists because lists can more easily be created manually.  You have already seen an example of how to do that, like below where we create a list of `PersonPolicy2` items."
   ]
  },
  {
   "cell_type": "code",
   "execution_count": 31,
   "metadata": {},
   "outputs": [
    {
     "data": {
      "text/html": [
       "<table><thead><tr><th><i>index</i></th><th>PersonId</th><th>PolicyNumber</th><th>Premium</th></tr></thead><tbody><tr><td>0</td><td>P1</td><td>{ FSI_0027+PolicyNumber+NewPolicyNumber: Item: Pol01 }</td><td>100</td></tr><tr><td>1</td><td>P1</td><td>{ FSI_0027+PolicyNumber+NewPolicyNumber: Item: Pol02 }</td><td>200</td></tr><tr><td>2</td><td>P2</td><td>{ FSI_0027+PolicyNumber+NewPolicyNumber: Item: Pol03 }</td><td>150</td></tr><tr><td>3</td><td>P3</td><td>{ FSI_0027+PolicyNumber+NewPolicyNumber: Item: Pol04 }</td><td>250</td></tr><tr><td>4</td><td>P3</td><td>{ FSI_0027+PolicyNumber+NewPolicyNumber: Item: Pol05 }</td><td>350</td></tr></tbody></table>"
      ]
     },
     "execution_count": 31,
     "metadata": {},
     "output_type": "execute_result"
    }
   ],
   "source": [
    "let data = \n",
    "    [ \n",
    "        { PersonId = \"P1\"; PolicyNumber = (NewPolicyNumber \"Pol01\"); Premium = 100m };\n",
    "        { PersonId = \"P1\"; PolicyNumber = (NewPolicyNumber \"Pol02\"); Premium = 200m };\n",
    "        { PersonId = \"P2\"; PolicyNumber = (NewPolicyNumber \"Pol03\"); Premium = 150m };\n",
    "        { PersonId = \"P3\"; PolicyNumber = (NewPolicyNumber \"Pol04\"); Premium = 250m };\n",
    "        { PersonId = \"P3\"; PolicyNumber = (NewPolicyNumber \"Pol05\"); Premium = 350m };\n",
    "    ]\n",
    "    \n",
    "data"
   ]
  },
  {
   "cell_type": "markdown",
   "metadata": {},
   "source": [
    "You have already seen in the first example some of the cool stuff you can do with the functions from the `List` module.  We will get back to that later on.\n",
    "\n",
    "## Anonymous Types\n",
    "Anonymous types are like records without a name.  They are very useful when transforming data.  Let us revisit the first example where we created a record type `PersonPremium` for summing up premiums for a person's policies.\n",
    "\n",
    "```fsharp\n",
    "type PersonPremium = \n",
    "    {\n",
    "        PersonId: string;\n",
    "        Premium: decimal;\n",
    "    }\n",
    "```\n",
    "\n",
    "An anonymous type is defined with `{|` and `|}` like so."
   ]
  },
  {
   "cell_type": "code",
   "execution_count": 32,
   "metadata": {},
   "outputs": [
    {
     "data": {
      "text/html": [
       "<table><thead><tr><th>PersonId</th><th>Premium</th></tr></thead><tbody><tr><td>123</td><td>100</td></tr></tbody></table>"
      ]
     },
     "execution_count": 32,
     "metadata": {},
     "output_type": "execute_result"
    }
   ],
   "source": [
    "let v = \n",
    "    {|\n",
    "        PersonId = \"123\";\n",
    "        Premium = 100m;\n",
    "    |}\n",
    "    \n",
    "v"
   ]
  },
  {
   "cell_type": "markdown",
   "metadata": {},
   "source": [
    "So we can rewrite the original example using an anonymous type on the fly to hold the summed premiums, like so."
   ]
  },
  {
   "cell_type": "code",
   "execution_count": 33,
   "metadata": {},
   "outputs": [
    {
     "data": {
      "text/html": [
       "<table><thead><tr><th><i>index</i></th><th>PersonId</th><th>Premium</th></tr></thead><tbody><tr><td>0</td><td>P1</td><td>300</td></tr><tr><td>1</td><td>P2</td><td>150</td></tr><tr><td>2</td><td>P3</td><td>600</td></tr></tbody></table>"
      ]
     },
     "execution_count": 33,
     "metadata": {},
     "output_type": "execute_result"
    }
   ],
   "source": [
    "let groupedByPerson = \n",
    "    data\n",
    "    |> List.groupBy (fun personPolicy -> personPolicy.PersonId)\n",
    "    |> List.map (fun (personId, personPolicies) -> \n",
    "        {|  // Here begins the anonymous type\n",
    "            PersonId = personId; \n",
    "            Premium = personPolicies |> List.sumBy (fun personPolicy -> personPolicy.Premium) \n",
    "        |})\n",
    "    \n",
    "groupedByPerson"
   ]
  }
 ],
 "metadata": {
  "kernelspec": {
   "display_name": ".NET (F#)",
   "language": "F#",
   "name": ".net-fsharp"
  },
  "language_info": {
   "file_extension": ".fs",
   "mimetype": "text/x-fsharp",
   "name": "C#",
   "pygments_lexer": "fsharp",
   "version": "4.5"
  }
 },
 "nbformat": 4,
 "nbformat_minor": 2
}
