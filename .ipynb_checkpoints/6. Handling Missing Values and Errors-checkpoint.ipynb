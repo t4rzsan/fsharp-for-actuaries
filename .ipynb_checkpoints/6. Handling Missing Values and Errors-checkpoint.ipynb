{
 "cells": [
  {
   "cell_type": "markdown",
   "metadata": {},
   "source": [
    "# Handling Missing Values and Errors\n",
    "We all know that the world is far from perfect.  When ever we receive data from some source where humans are involved, the quality of the data is not alway all that great.  Values may be missing in files or database tables, or values may be invalid for the expected data type.  That is why we need a way to handle missing values and errors when working with data.\n",
    "\n",
    "## Missing Values\n",
    "In a database table a missing value may be represented as NULL.  In a CSV file the value may simply be empty.  Some programming languages use null (as in SQL and C#) or some other value like \"undefined\" (as in JavaScript) or \"N/A\" (as in R).\n",
    "\n",
    "In F# you would usually use a special discriminated union: option.  You already saw a glimpse of option in the first example in this guide.  F# also lets you use null but you should avoid null as much as possible.  Using null is [asking for trouble](https://en.wikipedia.org/wiki/Tony_Hoare).\n",
    "\n",
    "With option you can have two possible values: `Some` and `None` where `None` of course means that the value is missing.  Pattern matching is your friend when using options.  It looks like this."
   ]
  },
  {
   "cell_type": "code",
   "execution_count": 4,
   "metadata": {},
   "outputs": [
    {
     "name": "stdout",
     "output_type": "stream",
     "text": [
      "42\n",
      "The value is missing.\n"
     ]
    },
    {
     "data": {
      "text/html": [
       "<null>"
      ]
     },
     "execution_count": 4,
     "metadata": {},
     "output_type": "execute_result"
    }
   ],
   "source": [
    "let someValue = Some 42\n",
    "let missing = None\n",
    "\n",
    "let printValue v =\n",
    "    match v with\n",
    "    | Some i -> printfn \"%d\" i\n",
    "    | None -> printfn \"The value is missing.\"\n",
    "    \n",
    "someValue |> printValue\n",
    "missing |> printValue"
   ]
  },
  {
   "cell_type": "markdown",
   "metadata": {},
   "source": [
    "As we have seen before, F# automatically derives the type of the `v` argument to the `printValue` function.  The type of `v` in this case is an integer option, written as `int option` if typed out, like so:\n",
    "```fsharp\n",
    "    let printValue (v: int option) =\n",
    "        // ...\n",
    "```"
   ]
  }
 ],
 "metadata": {
  "kernelspec": {
   "display_name": ".NET (F#)",
   "language": "F#",
   "name": ".net-fsharp"
  },
  "language_info": {
   "file_extension": ".fs",
   "mimetype": "text/x-fsharp",
   "name": "C#",
   "pygments_lexer": "fsharp",
   "version": "4.5"
  }
 },
 "nbformat": 4,
 "nbformat_minor": 2
}
