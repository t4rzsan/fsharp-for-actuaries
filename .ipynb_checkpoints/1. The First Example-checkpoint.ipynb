{
 "cells": [
  {
   "cell_type": "markdown",
   "metadata": {},
   "source": [
    "# The First Example\n",
    "Usually you start off with a \"hello world\" example.  But \"hello world\" would be too boring in F# so let us start with something a little more interesting and fun.  In this first example we will create a dataset (i.e. a list) that we will show in a histogram."
   ]
  },
  {
   "cell_type": "code",
   "execution_count": 21,
   "metadata": {},
   "outputs": [
    {
     "data": {
      "text/html": [
       "<table><thead><tr><th><i>index</i></th><th>PersonId</th><th>PolicyNumber</th><th>Premium</th></tr></thead><tbody><tr><td>0</td><td>P1</td><td>Pol01</td><td>100</td></tr><tr><td>1</td><td>P1</td><td>Pol02</td><td>200</td></tr><tr><td>2</td><td>P2</td><td>Pol03</td><td>150</td></tr><tr><td>3</td><td>P3</td><td>Pol04</td><td>250</td></tr><tr><td>4</td><td>P3</td><td>Pol05</td><td>350</td></tr></tbody></table>"
      ]
     },
     "execution_count": 21,
     "metadata": {},
     "output_type": "execute_result"
    }
   ],
   "source": [
    "type PersonPolicy = \n",
    "    {\n",
    "        PersonId: string;\n",
    "        PolicyNumber: string;\n",
    "        Premium: decimal;\n",
    "    }\n",
    "    \n",
    "let data = \n",
    "    [ \n",
    "        { PersonId = \"P1\"; PolicyNumber = \"Pol01\"; Premium = 100m };\n",
    "        { PersonId = \"P1\"; PolicyNumber = \"Pol02\"; Premium = 200m };\n",
    "        { PersonId = \"P2\"; PolicyNumber = \"Pol03\"; Premium = 150m };\n",
    "        { PersonId = \"P3\"; PolicyNumber = \"Pol04\"; Premium = 250m };\n",
    "        { PersonId = \"P3\"; PolicyNumber = \"Pol05\"; Premium = 350m };\n",
    "    ]\n",
    "    \n",
    "data"
   ]
  },
  {
   "cell_type": "markdown",
   "metadata": {},
   "source": [
    "The `PersonPolicy` type describes how each row in our dataset will look like.  Each row has a person ID, a policy number and a premium.  This is similar to columns in a table as shown by the `display` command.  The value `data` is a list of persons where each person can have one or more policies.\n",
    "\n",
    "Let us draw a diagram.  We want a bar diagram with the policy number on one axis and the premium on the other.  That means we want to create data for the two axis from our existing `data` values.  F# has a built-in function in the so-called `List` module for creating data or \"mapping\" data called `map`.  So we will use `List.map` to create data for the diagram."
   ]
  },
  {
   "cell_type": "code",
   "execution_count": 22,
   "metadata": {},
   "outputs": [
    {
     "data": {
      "text/html": [
       "<table><thead><tr><th><i>index</i></th><th>Item1</th><th>Item2</th></tr></thead><tbody><tr><td>0</td><td>Pol01</td><td>100</td></tr><tr><td>1</td><td>Pol02</td><td>200</td></tr><tr><td>2</td><td>Pol03</td><td>150</td></tr><tr><td>3</td><td>Pol04</td><td>250</td></tr><tr><td>4</td><td>Pol05</td><td>350</td></tr></tbody></table>"
      ]
     },
     "execution_count": 22,
     "metadata": {},
     "output_type": "execute_result"
    }
   ],
   "source": [
    "let graphData = data |> List.map (fun row -> row.PolicyNumber, row.Premium)\n",
    "\n",
    "graphData"
   ]
  },
  {
   "cell_type": "markdown",
   "metadata": {},
   "source": [
    "Note the use of the \"pipe\" operator `|>`.  The pipe operator \"pipes\" data into a function and it is extremely important and useful when working with data in F#.  We will get back to it later in this tutorial.  The part after the \"fun\" keyword is a function that tells `List.map` that we want the policy number and the premium from each row.\n",
    "\n",
    "We are now ready to create the plot."
   ]
  },
  {
   "cell_type": "code",
   "execution_count": 23,
   "metadata": {
    "scrolled": true
   },
   "outputs": [
    {
     "data": {
      "text/html": [
       "<div id=\"2142b347-8f09-4d90-af0b-713976376cb7\" style=\"width: 900px; height: 500px;\"></div>\r\n",
       "<script type=\"text/javascript\">\r\n",
       "\r\n",
       "var renderPlotly = function() {\r\n",
       "    var xplotRequire = require.config({context:'xplot-3.0.1',paths:{plotly:'https://cdn.plot.ly/plotly-1.49.2.min'}}) || require;\r\n",
       "    xplotRequire(['plotly'], function(Plotly) {\r\n",
       "\n",
       "            var data = [{\"type\":\"bar\",\"x\":[100.0,200.0,150.0,250.0,350.0],\"y\":[\"Pol01\",\"Pol02\",\"Pol03\",\"Pol04\",\"Pol05\"],\"orientation\":\"h\",\"name\":\"Policies\"}];\n",
       "            var layout = \"\";\n",
       "            Plotly.newPlot('2142b347-8f09-4d90-af0b-713976376cb7', data, layout);\n",
       "        \r\n",
       "});\r\n",
       "};\r\n",
       "if ((typeof(require) !==  typeof(Function)) || (typeof(require.config) !== typeof(Function))) {\r\n",
       "    var script = document.createElement(\"script\"); \r\n",
       "    script.setAttribute(\"src\", \"https://cdnjs.cloudflare.com/ajax/libs/require.js/2.3.6/require.min.js\");\r\n",
       "    script.onload = function(){\r\n",
       "        renderPlotly();\r\n",
       "    };\r\n",
       "    document.getElementsByTagName(\"head\")[0].appendChild(script); \r\n",
       "}\r\n",
       "else {\r\n",
       "    renderPlotly();\r\n",
       "}\r\n",
       "</script>\r\n"
      ]
     },
     "execution_count": 23,
     "metadata": {},
     "output_type": "execute_result"
    }
   ],
   "source": [
    "graphData\n",
    "|> Chart.Bar\n",
    "|> Chart.WithLabels [\"Policies\"; \"Premiums\"]"
   ]
  },
  {
   "cell_type": "markdown",
   "metadata": {},
   "source": [
    "That looks nice but what we really want is to group the policies and show the total premium for each person.\n",
    "\n",
    "Let us create a type that holds the premium per person."
   ]
  },
  {
   "cell_type": "code",
   "execution_count": 24,
   "metadata": {},
   "outputs": [],
   "source": [
    "type PersonPremium = \n",
    "    {\n",
    "        PersonId: string;\n",
    "        Premium: decimal;\n",
    "    }"
   ]
  },
  {
   "cell_type": "markdown",
   "metadata": {},
   "source": [
    "We also need a function that sums the premiums for a list of `PersonPolicy`.  We will use the function `List.sumBy` to do that."
   ]
  },
  {
   "cell_type": "code",
   "execution_count": 25,
   "metadata": {},
   "outputs": [],
   "source": [
    "let sumPremium (personPolicies: PersonPolicy list) =\n",
    "    personPolicies |> List.sumBy (fun personPolicy -> personPolicy.Premium)"
   ]
  },
  {
   "cell_type": "markdown",
   "metadata": {},
   "source": [
    "We can test it by summing the premiums for our entire dataset."
   ]
  },
  {
   "cell_type": "code",
   "execution_count": 26,
   "metadata": {},
   "outputs": [
    {
     "data": {
      "text/html": [
       "1050"
      ]
     },
     "execution_count": 26,
     "metadata": {},
     "output_type": "execute_result"
    }
   ],
   "source": [
    "sumPremium data"
   ]
  },
  {
   "cell_type": "markdown",
   "metadata": {},
   "source": [
    "That looks just about right, except we do not want to get the total premium.  Instead we want the premium for each person so first we need to group the dataset per person and then sum the premiums.  Fortunately, F# has a built-in function for grouping lists: `List.groupBy`.  After grouping we use `List.map` to transform the grouped data into an list of `PersonPremium` elements and we apply our function `sumPremium` to sum the premiums for each person."
   ]
  },
  {
   "cell_type": "code",
   "execution_count": 27,
   "metadata": {},
   "outputs": [
    {
     "data": {
      "text/html": [
       "<table><thead><tr><th><i>index</i></th><th>PersonId</th><th>Premium</th></tr></thead><tbody><tr><td>0</td><td>P1</td><td>300</td></tr><tr><td>1</td><td>P2</td><td>150</td></tr><tr><td>2</td><td>P3</td><td>600</td></tr></tbody></table>"
      ]
     },
     "execution_count": 27,
     "metadata": {},
     "output_type": "execute_result"
    }
   ],
   "source": [
    "let groupedByPerson = \n",
    "    data\n",
    "    |> List.groupBy (fun personPolicy -> personPolicy.PersonId)\n",
    "    |> List.map (fun (personId, personPolicies) -> \n",
    "        {\n",
    "            PersonId = personId; \n",
    "            Premium = sumPremium personPolicies \n",
    "        })\n",
    "    \n",
    "groupedByPerson\n"
   ]
  },
  {
   "cell_type": "markdown",
   "metadata": {},
   "source": [
    "Pretty neat! Let's plot it."
   ]
  },
  {
   "cell_type": "code",
   "execution_count": 28,
   "metadata": {},
   "outputs": [
    {
     "data": {
      "text/html": [
       "<div id=\"5cf234d4-0c6d-4e78-a8d4-5356aae92ab1\" style=\"width: 900px; height: 500px;\"></div>\r\n",
       "<script type=\"text/javascript\">\r\n",
       "\r\n",
       "var renderPlotly = function() {\r\n",
       "    var xplotRequire = require.config({context:'xplot-3.0.1',paths:{plotly:'https://cdn.plot.ly/plotly-1.49.2.min'}}) || require;\r\n",
       "    xplotRequire(['plotly'], function(Plotly) {\r\n",
       "\n",
       "            var data = [{\"type\":\"bar\",\"x\":[300.0,150.0,600.0],\"y\":[\"P1\",\"P2\",\"P3\"],\"orientation\":\"h\",\"name\":\"Person\"}];\n",
       "            var layout = \"\";\n",
       "            Plotly.newPlot('5cf234d4-0c6d-4e78-a8d4-5356aae92ab1', data, layout);\n",
       "        \r\n",
       "});\r\n",
       "};\r\n",
       "if ((typeof(require) !==  typeof(Function)) || (typeof(require.config) !== typeof(Function))) {\r\n",
       "    var script = document.createElement(\"script\"); \r\n",
       "    script.setAttribute(\"src\", \"https://cdnjs.cloudflare.com/ajax/libs/require.js/2.3.6/require.min.js\");\r\n",
       "    script.onload = function(){\r\n",
       "        renderPlotly();\r\n",
       "    };\r\n",
       "    document.getElementsByTagName(\"head\")[0].appendChild(script); \r\n",
       "}\r\n",
       "else {\r\n",
       "    renderPlotly();\r\n",
       "}\r\n",
       "</script>\r\n"
      ]
     },
     "execution_count": 28,
     "metadata": {},
     "output_type": "execute_result"
    }
   ],
   "source": [
    "groupedByPerson\n",
    "|> List.map (fun g -> g.PersonId, g.Premium)\n",
    "|> Chart.Bar\n",
    "|> Chart.WithLabels [\"Person\"; \"Premiums\"]"
   ]
  },
  {
   "cell_type": "markdown",
   "metadata": {},
   "source": [
    "## Conclusion\n",
    "This example hopefully gave you an idea of the power of F#.  It showed you how you can create datasets as lists and how you can transform and plot data.  Don't worry if you did not understand all of it.  I would be surprised if you did.  We will dive deeper into the concepts of data and functions in the rest of the guide.\n"
   ]
  }
 ],
 "metadata": {
  "kernelspec": {
   "display_name": ".NET (F#)",
   "language": "F#",
   "name": ".net-fsharp"
  },
  "language_info": {
   "file_extension": ".fs",
   "mimetype": "text/x-fsharp",
   "name": "C#",
   "pygments_lexer": "fsharp",
   "version": "4.5"
  }
 },
 "nbformat": 4,
 "nbformat_minor": 2
}
