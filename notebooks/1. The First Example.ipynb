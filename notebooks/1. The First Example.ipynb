{
 "cells": [
  {
   "cell_type": "markdown",
   "metadata": {},
   "source": [
    "# The First Example\n",
    "Usually you start off with a \"hello world\" example.  But \"hello world\" would merely be a one-liner in F# so let us start with something a little more interesting and fun.  In this first example we will create a dataset (i.e. a list) that we will show in a histogram.  The example will show you pretty much all you need to get started working with data in F#.  Do not worry if you do not understand everything that is going on.  That is what this guide is for and in the subsequent chapters I will explain the concepts used below.\n",
    "\n",
    "Let us begin by defining the dataset which is a list of insurance policies with information on the premium for the policy. "
   ]
  },
  {
   "cell_type": "code",
   "execution_count": null,
   "metadata": {
    "dotnet_interactive": {
     "language": "fsharp"
    }
   },
   "outputs": [
    {
     "data": {
      "text/html": "<table><thead><tr><th><i>index</i></th><th>PersonId</th><th>PolicyNumber</th><th>Premium</th></tr></thead><tbody><tr><td>0</td><td>P1</td><td>Pol01</td><td><div class=\"dni-plaintext\">100</div></td></tr><tr><td>1</td><td>P1</td><td>Pol02</td><td><div class=\"dni-plaintext\">200</div></td></tr><tr><td>2</td><td>P2</td><td>Pol03</td><td><div class=\"dni-plaintext\">150</div></td></tr><tr><td>3</td><td>P3</td><td>Pol04</td><td><div class=\"dni-plaintext\">250</div></td></tr><tr><td>4</td><td>P3</td><td>Pol05</td><td><div class=\"dni-plaintext\">350</div></td></tr></tbody></table>"
     },
     "output_type": "unknown"
    }
   ],
   "source": [
    "type PersonPolicy = \n",
    "    {\n",
    "        PersonId: string;\n",
    "        PolicyNumber: string;\n",
    "        Premium: decimal;\n",
    "    }\n",
    "    \n",
    "let data = \n",
    "    [ \n",
    "        { PersonId = \"P1\"; PolicyNumber = \"Pol01\"; Premium = 100m };\n",
    "        { PersonId = \"P1\"; PolicyNumber = \"Pol02\"; Premium = 200m };\n",
    "        { PersonId = \"P2\"; PolicyNumber = \"Pol03\"; Premium = 150m };\n",
    "        { PersonId = \"P3\"; PolicyNumber = \"Pol04\"; Premium = 250m };\n",
    "        { PersonId = \"P3\"; PolicyNumber = \"Pol05\"; Premium = 350m };\n",
    "    ]\n",
    "    \n",
    "data"
   ]
  },
  {
   "cell_type": "markdown",
   "metadata": {},
   "source": [
    "In line 1 you define a *type*.  A type defines the shape of your data.  The `PersonPolicy` type defines how each row or item in your dataset will look like.  Each row has a person ID, a policy number and a premium.  This is similar to how you would define columns in an Excel spreadshet or in a database table. In a later chapter \"Structuring Data\", you will learn more about types.\n",
    "\n",
    "The value `data` in line 8 is a list of persons where each person can have one or more policies.  This is your dataset.  The output in line 17 shows the `data` value as a nice table.\n",
    "\n",
    "Let us draw a diagram.  We want a bar diagram with the policy number on one axis and the premium on the other based on our *data* defined above.  F# has a built-in function in the so-called `List` module for creating data or \"mapping\" data called `map`.  So we will use `List.map` to create data for the diagram."
   ]
  },
  {
   "cell_type": "code",
   "execution_count": null,
   "metadata": {
    "dotnet_interactive": {
     "language": "fsharp"
    }
   },
   "outputs": [
    {
     "data": {
      "text/html": "<table><thead><tr><th><i>index</i></th><th>Item1</th><th>Item2</th></tr></thead><tbody><tr><td>0</td><td>Pol01</td><td><div class=\"dni-plaintext\">100</div></td></tr><tr><td>1</td><td>Pol02</td><td><div class=\"dni-plaintext\">200</div></td></tr><tr><td>2</td><td>Pol03</td><td><div class=\"dni-plaintext\">150</div></td></tr><tr><td>3</td><td>Pol04</td><td><div class=\"dni-plaintext\">250</div></td></tr><tr><td>4</td><td>Pol05</td><td><div class=\"dni-plaintext\">350</div></td></tr></tbody></table>"
     },
     "output_type": "unknown"
    }
   ],
   "source": [
    "let getPolicyNumberAndPremium row =\n",
    "    row.PolicyNumber, row.Premium\n",
    "    \n",
    "let graphData = data |> List.map getPolicyNumberAndPremium\n",
    "\n",
    "graphData"
   ]
  },
  {
   "cell_type": "markdown",
   "metadata": {},
   "source": [
    "There are a couple of things going on here.\n",
    "\n",
    "In line 1 you define a function called `getPolicyNumberAndPremium` that takes one argument with the name `row`.  F# will figure out on its own that `row` is a `PersonPolicy`.  We say that \"row is of type PersonPolicy\".\n",
    "\n",
    "Next in line 4, we pass our dataset `data` along with the function `getPolicyNumberAndPremium` into the `List.map` function.  `List.map` will call `getPolicyNumberAndPremium` for each item in `data` and return a new list with rows containing the pair `(policynumber, premium)`.  This list is shown in the table.\n",
    "\n",
    "Note also the use of the so called \"pipe\" operator `|>`.  The pipe operator \"pipes\" data into a function and it is extremely important and useful when working with data in F#.  We will get back to it later in a later chapter.\n",
    "\n",
    "You will learn more about functions and how functions can be passed to other functions as arguments in the chapter \"Functions\".\n",
    "\n",
    "We are now ready to create the plot."
   ]
  },
  {
   "cell_type": "code",
   "execution_count": null,
   "metadata": {
    "dotnet_interactive": {
     "language": "fsharp"
    }
   },
   "outputs": [
    {
     "data": {
      "text/plain": "Installed package XPlot.Plotly.Interactive version 4.0.2"
     },
     "output_type": "unknown"
    },
    {
     "data": {
      "text/markdown": "Loading extensions from `XPlot.Plotly.Interactive.dll`"
     },
     "output_type": "unknown"
    },
    {
     "data": {
      "text/markdown": "Configuring PowerShell Kernel for XPlot.Plotly integration."
     },
     "output_type": "unknown"
    },
    {
     "data": {
      "text/markdown": "Installed support for XPlot.Plotly."
     },
     "output_type": "unknown"
    },
    {
     "data": {
      "text/html": "<!DOCTYPE html>\r\n<div style=\"width: 900px; height: 500px;\" id=\"c87388f8-6ac2-4bb0-a95d-139219376b88\"></div><script type=\"text/javascript\">\r\n\nvar renderPlotly = function() {\n    var xplotRequire = require.config({context:'xplot-3.0.1',paths:{plotly:'https://cdn.plot.ly/plotly-1.49.2.min'}}) || require;\n    xplotRequire(['plotly'], function(Plotly) { \r\n\n            var data = [{\"type\":\"bar\",\"x\":[100.0,200.0,150.0,250.0,350.0],\"y\":[\"Pol01\",\"Pol02\",\"Pol03\",\"Pol04\",\"Pol05\"],\"orientation\":\"h\",\"name\":\"Policies\"}];\n           var layout = \"\";\n           Plotly.newPlot('c87388f8-6ac2-4bb0-a95d-139219376b88', data, layout);\n        \r\n});\n};\r\n// ensure `require` is available globally\r\nif ((typeof(require) !==  typeof(Function)) || (typeof(require.config) !== typeof(Function))) {\r\n    let require_script = document.createElement('script');\r\n    require_script.setAttribute('src', 'https://cdnjs.cloudflare.com/ajax/libs/require.js/2.3.6/require.min.js');\r\n    require_script.setAttribute('type', 'text/javascript');\r\n    \r\n    \r\n    require_script.onload = function() {\r\n        renderPlotly();\r\n    };\r\n\r\n    document.getElementsByTagName('head')[0].appendChild(require_script);\r\n}\r\nelse {\r\n    renderPlotly();\r\n}\r\n\r\n</script>\r\n"
     },
     "output_type": "unknown"
    }
   ],
   "source": [
    "#r \"nuget: XPlot.Plotly.Interactive\"\r\n",
    "open XPlot.Plotly\r\n",
    "\r\n",
    "graphData\r\n",
    "|> Chart.Bar\r\n",
    "|> Chart.WithLabels [\"Policies\"; \"Premiums\"]"
   ]
  },
  {
   "cell_type": "markdown",
   "metadata": {},
   "source": [
    "Once again we pipe our data into a chart.  It looks nice but what we really want is to group the policies and show the total premium for each person.\n",
    "\n",
    "Let us create a type that holds the premium per person."
   ]
  },
  {
   "cell_type": "code",
   "execution_count": null,
   "metadata": {
    "dotnet_interactive": {
     "language": "fsharp"
    }
   },
   "outputs": [],
   "source": [
    "type PersonPremium = \n",
    "    {\n",
    "        PersonId: string;\n",
    "        Premium: decimal;\n",
    "    }"
   ]
  },
  {
   "cell_type": "markdown",
   "metadata": {},
   "source": [
    "We also need a function that sums the premiums for a list of `PersonPolicy`.  We will use the function `List.sumBy` to do that."
   ]
  },
  {
   "cell_type": "code",
   "execution_count": null,
   "metadata": {
    "dotnet_interactive": {
     "language": "fsharp"
    }
   },
   "outputs": [],
   "source": [
    "let sumPremium (personPolicies: PersonPolicy list) =\n",
    "    personPolicies |> List.sumBy (fun personPolicy -> personPolicy.Premium)"
   ]
  },
  {
   "cell_type": "markdown",
   "metadata": {},
   "source": [
    "Wait, what happened in line 2 above?  What is the `fun personPolicy -> personPolicy.Premium` part all about?  This is actually a function without a name.  So you can create a function \"on-the-fly\" with the `fun` keyword, and pass that function to another function, `List.sumBy`.\n",
    "\n",
    "We can test it by summing the premiums for our entire dataset."
   ]
  },
  {
   "cell_type": "code",
   "execution_count": null,
   "metadata": {
    "dotnet_interactive": {
     "language": "fsharp"
    }
   },
   "outputs": [
    {
     "data": {
      "text/html": "<div class=\"dni-plaintext\">1050</div>"
     },
     "output_type": "unknown"
    }
   ],
   "source": [
    "sumPremium data"
   ]
  },
  {
   "cell_type": "markdown",
   "metadata": {},
   "source": [
    "That looks just about right, except we do not want to get the total premium.  Instead we want the premium for each person so first we need to group the dataset per person and then sum the premiums.  Fortunately, F# has a built-in function for grouping lists: `List.groupBy`.  After grouping we use `List.map` to transform the grouped data into an list of `PersonPremium` elements and we apply our function `sumPremium` to sum the premiums for each person."
   ]
  },
  {
   "cell_type": "code",
   "execution_count": null,
   "metadata": {
    "dotnet_interactive": {
     "language": "fsharp"
    }
   },
   "outputs": [
    {
     "data": {
      "text/html": "<table><thead><tr><th><i>index</i></th><th>PersonId</th><th>Premium</th></tr></thead><tbody><tr><td>0</td><td>P1</td><td><div class=\"dni-plaintext\">300</div></td></tr><tr><td>1</td><td>P2</td><td><div class=\"dni-plaintext\">150</div></td></tr><tr><td>2</td><td>P3</td><td><div class=\"dni-plaintext\">600</div></td></tr></tbody></table>"
     },
     "output_type": "unknown"
    }
   ],
   "source": [
    "let groupedByPerson = \n",
    "    data\n",
    "    |> List.groupBy (fun personPolicy -> personPolicy.PersonId)\n",
    "    |> List.map (fun (personId, personPolicies) -> \n",
    "        {\n",
    "            PersonId = personId; \n",
    "            Premium = sumPremium personPolicies \n",
    "        })\n",
    "    \n",
    "groupedByPerson\n"
   ]
  },
  {
   "cell_type": "markdown",
   "metadata": {},
   "source": [
    "Now it is starting to get a bit more complicated.  In line 3 above you use `List.groupBy` to group your data by `PersonId` by passing \n",
    "`fun personPolicy -> personPolicy.PersonId`.  After grouping, you have a new dataset with a list of policies for each personId, which you can see in the `fun (personId, personPolicies)` part of line 4.  In line 5 and forward we create new rows containing `PersonPremium` elements, with the premiums summed for each person which is done in line 7.\n",
    "\n",
    "That is pretty neat! Let's plot it."
   ]
  },
  {
   "cell_type": "code",
   "execution_count": null,
   "metadata": {
    "dotnet_interactive": {
     "language": "fsharp"
    }
   },
   "outputs": [
    {
     "data": {
      "text/html": "<!DOCTYPE html>\r\n<div style=\"width: 900px; height: 500px;\" id=\"df773e8a-07bc-4274-a276-5d12272b6d43\"></div><script type=\"text/javascript\">\r\n\nvar renderPlotly = function() {\n    var xplotRequire = require.config({context:'xplot-3.0.1',paths:{plotly:'https://cdn.plot.ly/plotly-1.49.2.min'}}) || require;\n    xplotRequire(['plotly'], function(Plotly) { \r\n\n            var data = [{\"type\":\"bar\",\"x\":[300.0,150.0,600.0],\"y\":[\"P1\",\"P2\",\"P3\"],\"orientation\":\"h\",\"name\":\"Person\"}];\n           var layout = \"\";\n           Plotly.newPlot('df773e8a-07bc-4274-a276-5d12272b6d43', data, layout);\n        \r\n});\n};\r\n// ensure `require` is available globally\r\nif ((typeof(require) !==  typeof(Function)) || (typeof(require.config) !== typeof(Function))) {\r\n    let require_script = document.createElement('script');\r\n    require_script.setAttribute('src', 'https://cdnjs.cloudflare.com/ajax/libs/require.js/2.3.6/require.min.js');\r\n    require_script.setAttribute('type', 'text/javascript');\r\n    \r\n    \r\n    require_script.onload = function() {\r\n        renderPlotly();\r\n    };\r\n\r\n    document.getElementsByTagName('head')[0].appendChild(require_script);\r\n}\r\nelse {\r\n    renderPlotly();\r\n}\r\n\r\n</script>\r\n"
     },
     "output_type": "unknown"
    }
   ],
   "source": [
    "groupedByPerson\n",
    "|> List.map (fun g -> g.PersonId, g.Premium)\n",
    "|> Chart.Bar\n",
    "|> Chart.WithLabels [\"Person\"; \"Premiums\"]"
   ]
  },
  {
   "cell_type": "markdown",
   "metadata": {},
   "source": [
    "This example hopefully gave you an idea of the power of F#.  It showed you how you can create datasets as lists and how you can transform and plot data.  Don't worry if you did not understand all of it.  I would be surprised if you did.  But hopefully you can see from the example that F# gives you a consistent and compact way of transforming and aggregating data.  We will dive deeper into the concepts of data and functions in the next chapters.\n"
   ]
  }
 ],
 "metadata": {
  "kernelspec": {
   "display_name": ".NET (C#)",
   "language": "C#",
   "name": ".net-csharp"
  },
  "language_info": {
   "name": "C#",
   "version": ""
  },
  "orig_nbformat": 3
 },
 "nbformat": 4,
 "nbformat_minor": 2
}