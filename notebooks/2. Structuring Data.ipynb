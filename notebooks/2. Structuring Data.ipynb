{
 "cells": [
  {
   "cell_type": "markdown",
   "metadata": {},
   "source": [
    "# Structuring Data"
   ]
  },
  {
   "cell_type": "markdown",
   "metadata": {},
   "source": [
    "In Excel you typically organize data in tables where each column is of a a specific *type* like number, text string or date.  In R you use tye *types* Logical, Numeric, Integer or Character.  Similarly, F# has *types* and understanding the different kinds of types and when to use them is paramount to programming.\n",
    "\n",
    "F# has a lot of built-in types such as `string`, `int` and `decimal` and it also has container types like `array`, `list` and `seq` (sequence) that can contain other items.  The .NET framework itself also has a lot of types that you can use, such as the commonly used `DateTime` type.\n",
    "\n",
    "## Values\n",
    "You use the `let` keyword to create values of a type."
   ]
  },
  {
   "cell_type": "code",
   "execution_count": null,
   "metadata": {
    "dotnet_interactive": {
     "language": "fsharp"
    }
   },
   "outputs": [],
   "source": [
    "let theAnswer = 42 // An integer\n",
    "let greeting = \"Hello world\" // A string\n",
    "let pi = 3.141 // A double"
   ]
  },
  {
   "cell_type": "markdown",
   "metadata": {},
   "source": [
    "Notice how you don't have to specify the type anywhere.  You just create the value and most of the time F# will figure out what type you intended.  F# will keep track of the types behind the scenes which is very useful when defining functions as you will see later.\n",
    "\n",
    "Values in F# are *immutable* by default.  That means you can never change a value once it has been created.  If you try, you will get an error."
   ]
  },
  {
   "cell_type": "code",
   "execution_count": null,
   "metadata": {
    "dotnet_interactive": {
     "language": "fsharp"
    }
   },
   "outputs": [
    {
     "data": {
      "text/plain": "Stopped due to error\n"
     },
     "output_type": "unknown"
    },
    {
     "data": {
      "application/x.notebook.error-traceback": {
       "ename": "Error",
       "evalue": "input.fsx (1,1)-(1,16) typecheck error This value is not mutable. Consider using the mutable keyword, e.g. 'let mutable theAnswer = expression'.",
       "traceback": []
      }
     },
     "output_type": "unknown"
    }
   ],
   "source": [
    "theAnswer <- 43"
   ]
  },
  {
   "cell_type": "markdown",
   "metadata": {},
   "source": [
    "The best part about types is that you can create your own.  For example, you can create *records*, *discriminated unions*, *anonymous types* and *tuples*.\n",
    "\n",
    "## Records\n",
    "You have already created your own type in the first example, where you created the `PersonPolicy` type."
   ]
  },
  {
   "cell_type": "code",
   "execution_count": null,
   "metadata": {
    "dotnet_interactive": {
     "language": "fsharp"
    }
   },
   "outputs": [],
   "source": [
    "type PersonPolicy = \n",
    "    {\n",
    "        PersonId: string;\n",
    "        PolicyNumber: string;\n",
    "        Premium: decimal;\n",
    "    }"
   ]
  },
  {
   "cell_type": "markdown",
   "metadata": {},
   "source": [
    "As you can see, `PersonPolicy` is really just a combination of other types: `string` and `decimal`.  That way you can create an endless number of types by combining existing types.  This kind of type is called a *record* type.  It is also called a *product* type because the sample space for `PersonPolicy` is `string * string * decimal`.\n",
    "\n",
    "You create values of record types like so."
   ]
  },
  {
   "cell_type": "code",
   "execution_count": null,
   "metadata": {
    "dotnet_interactive": {
     "language": "fsharp"
    }
   },
   "outputs": [],
   "source": [
    "let pp = \n",
    "    {\n",
    "        PersonId = \"123\";\n",
    "        PolicyNumber = \"Pol001\";\n",
    "        Premium = 10000m;\n",
    "    }"
   ]
  },
  {
   "cell_type": "markdown",
   "metadata": {},
   "source": [
    "> Why the `m` in line 8? Notice the `m` after the premium amount in line 8 above?  The `m` tells F# that you want a decimal and not an integer.  If you remove the `m`, you will get an error saying that F# cannot convert the integer 10000 to a decimal, since the Premium field is of type decimal.\n",
    "\n",
    "Since values are immutable, F# provides us with a very easy way to copy a record where you change some of the properties."
   ]
  },
  {
   "cell_type": "code",
   "execution_count": null,
   "metadata": {
    "dotnet_interactive": {
     "language": "fsharp"
    }
   },
   "outputs": [
    {
     "data": {
      "text/html": "<table><thead><tr><th>PersonId</th><th>PolicyNumber</th><th>Premium</th></tr></thead><tbody><tr><td><div class=\"dni-plaintext\">123</div></td><td><div class=\"dni-plaintext\">Pol001</div></td><td><div class=\"dni-plaintext\">10000</div></td></tr></tbody></table>"
     },
     "output_type": "unknown"
    },
    {
     "data": {
      "text/html": "<table><thead><tr><th>PersonId</th><th>PolicyNumber</th><th>Premium</th></tr></thead><tbody><tr><td><div class=\"dni-plaintext\">123</div></td><td><div class=\"dni-plaintext\">Pol002</div></td><td><div class=\"dni-plaintext\">120</div></td></tr></tbody></table>"
     },
     "output_type": "unknown"
    }
   ],
   "source": [
    "let ppCopy = { pp with PolicyNumber = \"Pol002\"; Premium = 120m; }\n",
    "\n",
    "display(pp)\n",
    "display(ppCopy)"
   ]
  },
  {
   "cell_type": "markdown",
   "metadata": {},
   "source": [
    "## Discriminated Unions\n",
    "Discriminated unions are a way of defining a type with mutually exclusive ways of creating values of that type.  It sounds weird but it is a really nice way to represent data.  Say for example that you have to policy systems in your company.  One is an old legacy system where policy numbers are represented as integers.  For the other newer system policy numbers are strings.  For this setup you might define the PersonPolicy like so."
   ]
  },
  {
   "cell_type": "code",
   "execution_count": null,
   "metadata": {
    "dotnet_interactive": {
     "language": "fsharp"
    }
   },
   "outputs": [],
   "source": [
    "type PolicyNumber =\n",
    "    | LegacyPolicyNumber of int\n",
    "    | NewPolicyNumber of string\n",
    "    \n",
    "type PersonPolicy2 =\n",
    "    {\n",
    "        PersonId: string;\n",
    "        PolicyNumber: PolicyNumber;\n",
    "        Premium: decimal;\n",
    "    }    "
   ]
  },
  {
   "cell_type": "markdown",
   "metadata": {},
   "source": [
    "Discriminated unions are also called *sum types*.  That is because a value of a discriminated union type can be *either* of the options.  For example, a policy number can be *either* `LegacyPolicyNumber` or `NewPolicyNumber`.\n",
    "\n",
    "Together with product types, sum types are called *Algebraic Data Types (ADT)*.\n",
    "\n",
    "The `PersonPolicy2` type is used like so."
   ]
  },
  {
   "cell_type": "code",
   "execution_count": null,
   "metadata": {
    "dotnet_interactive": {
     "language": "fsharp"
    }
   },
   "outputs": [
    {
     "data": {
      "text/html": "<table><thead><tr><th>Item</th></tr></thead><tbody><tr><td><div class=\"dni-plaintext\">42</div></td></tr></tbody></table>"
     },
     "output_type": "unknown"
    },
    {
     "data": {
      "text/html": "<table><thead><tr><th>Item</th></tr></thead><tbody><tr><td><div class=\"dni-plaintext\">Pol01</div></td></tr></tbody></table>"
     },
     "output_type": "unknown"
    }
   ],
   "source": [
    "let legacyPolicyPerson = \n",
    "    {\n",
    "        PersonId = \"1\";\n",
    "        PolicyNumber = LegacyPolicyNumber(42);\n",
    "        Premium = 1000m;\n",
    "    }\n",
    "    \n",
    "let newPolicyPerson =\n",
    "    {\n",
    "        PersonId = \"2\";\n",
    "        PolicyNumber = NewPolicyNumber(\"Pol01\");\n",
    "        Premium = 1200m;    \n",
    "    }\n",
    "\n",
    "display(legacyPolicyPerson.PolicyNumber)\n",
    "display(newPolicyPerson.PolicyNumber)"
   ]
  },
  {
   "cell_type": "markdown",
   "metadata": {},
   "source": [
    "Using discriminated unions like that gives you complete control and type safety when handling data.  In the above example, the discriminated union ensures that there is no doubt whether you are holding a legacy policy number or a new policy number.  The type tells us what it is.\n",
    "\n",
    "Together with *pattern matching*, discriminated unions show their full power.  Usually you would use pattern matching with something similar to a switch statement in C# and other languages, but with more power.  For one, pattern matching in F# is *exhaustive* which means that the F# compiler will report an error if you do not provide a case for each of the values in your disciminated union.\n",
    "\n",
    "Let us see a small example of what pattern matching looks like."
   ]
  },
  {
   "cell_type": "code",
   "execution_count": null,
   "metadata": {
    "dotnet_interactive": {
     "language": "fsharp"
    }
   },
   "outputs": [
    {
     "data": {
      "text/plain": "The legacy policy number is: "
     },
     "output_type": "unknown"
    },
    {
     "data": {
      "text/plain": "123"
     },
     "output_type": "unknown"
    },
    {
     "data": {
      "text/plain": "\r\n"
     },
     "output_type": "unknown"
    },
    {
     "data": {
      "text/plain": "The new policy number is: "
     },
     "output_type": "unknown"
    },
    {
     "data": {
      "text/plain": "Pol123"
     },
     "output_type": "unknown"
    },
    {
     "data": {
      "text/plain": "\r\n"
     },
     "output_type": "unknown"
    }
   ],
   "source": [
    "let printPolicyNumber policyNumber = \n",
    "    match policyNumber with\n",
    "    | LegacyPolicyNumber i -> printfn \"The legacy policy number is: %d\" i\n",
    "    | NewPolicyNumber s -> printfn \"The new policy number is: %s\" s\n",
    "    \n",
    "(LegacyPolicyNumber 123) |> printPolicyNumber\n",
    "(NewPolicyNumber \"Pol123\") |> printPolicyNumber\n"
   ]
  },
  {
   "cell_type": "markdown",
   "metadata": {},
   "source": [
    "The match expression starts in line 2 and each of the possible matches start with the pipe ('|') character.  For each match the value is deconstructed so you can easily access the policy number value inside the distriminated union.  If you remove either line 3 or line 4, the F# compiler would complain with the error \"the match cases were incomplete\".  This is very cool because if you one day decide to add another type of policy, the F# compiler would tell you where to fix the code.\n",
    "\n",
    "### Options\n",
    "Probably one of the most important discriminated union in F# is the [`Option`](https://docs.microsoft.com/en-us/dotnet/fsharp/language-reference/options) type.  An option can be either `Some` or `None` where `None` means that the value does not exist.  For example, you would use `None` if a value read from a CSV file or from a database is missing.  Option values are set like so."
   ]
  },
  {
   "cell_type": "code",
   "execution_count": null,
   "metadata": {
    "dotnet_interactive": {
     "language": "fsharp"
    }
   },
   "outputs": [],
   "source": [
    "let existingValue = Some(42)\n",
    "let missingValue = None"
   ]
  },
  {
   "cell_type": "markdown",
   "metadata": {},
   "source": [
    "We will get back to options later in this guide.\n",
    "\n",
    "Option is a *generic type* because it can be used for any other type.  It can be an option of int (like above), and option of double or whatever.  You define generic types with generic parameters which means that you define types that use other types as parameters.  For example, if you were to define your own option type it would look something like this.  Yes, it is all a bit weird but very cool."
   ]
  },
  {
   "cell_type": "code",
   "execution_count": null,
   "metadata": {
    "dotnet_interactive": {
     "language": "fsharp"
    }
   },
   "outputs": [
    {
     "data": {
      "text/plain": "Some \"abc\""
     },
     "output_type": "unknown"
    },
    {
     "data": {
      "text/plain": "\r\n"
     },
     "output_type": "unknown"
    },
    {
     "data": {
      "text/plain": "None"
     },
     "output_type": "unknown"
    },
    {
     "data": {
      "text/plain": "\r\n"
     },
     "output_type": "unknown"
    }
   ],
   "source": [
    "// 'a means \"generic type parameter\"\n",
    "type MyOption<'a> =\n",
    "    | Some of 'a\n",
    "    | None\n",
    "\n",
    "let a = Some(\"abc\") // a is of type MyOption<string> because we define 'a to be a string.\n",
    "let b = None\n",
    "\n",
    "printfn \"%A\" a\n",
    "printfn \"%A\" b\n"
   ]
  },
  {
   "cell_type": "markdown",
   "metadata": {},
   "source": [
    "### Single Case Discriminated Unions"
   ]
  },
  {
   "cell_type": "markdown",
   "metadata": {},
   "source": [
    "Let us say you have a function that creates a displayname from given name and surname (we will get to functions in the next chapter)."
   ]
  },
  {
   "cell_type": "code",
   "execution_count": null,
   "metadata": {
    "dotnet_interactive": {
     "language": "fsharp"
    }
   },
   "outputs": [
    {
     "data": {
      "text/plain": "Jakob Christensen"
     },
     "output_type": "unknown"
    }
   ],
   "source": [
    "let createDisplayName givenName surName =\n",
    "    givenName + \" \" + surName\n",
    "    \n",
    "let a = \"Jakob\"\n",
    "let b = \"Christensen\"\n",
    "createDisplayName a b"
   ]
  },
  {
   "cell_type": "markdown",
   "metadata": {},
   "source": [
    "Accidentally, you may call it with the parameters swapped because both parameters are of type `string` and therefore interchangeable."
   ]
  },
  {
   "cell_type": "code",
   "execution_count": null,
   "metadata": {
    "dotnet_interactive": {
     "language": "fsharp"
    }
   },
   "outputs": [
    {
     "data": {
      "text/plain": "Christensen Jakob"
     },
     "output_type": "unknown"
    }
   ],
   "source": [
    "createDisplayName b a"
   ]
  },
  {
   "cell_type": "markdown",
   "metadata": {},
   "source": [
    "Obviously, that is not what we want.  To make it harder for the caller to make this mistake, you can introduce single case discriminated unions."
   ]
  },
  {
   "cell_type": "code",
   "execution_count": null,
   "metadata": {
    "dotnet_interactive": {
     "language": "fsharp"
    }
   },
   "outputs": [
    {
     "data": {
      "text/plain": "Jakob Christensen"
     },
     "output_type": "unknown"
    }
   ],
   "source": [
    "// GivenName and SurName are single case discriminated unions\n",
    "type GivenName = GivenName of string\n",
    "type SurName = SurName of string\n",
    "\n",
    "// createDisplayName2 requires the parameters to be of type GivenName and SurName.\n",
    "// \"Deconstruct\" givenName and surName to get the actual string values inside.\n",
    "let createDisplayName2 (GivenName givenName) (SurName surName) =\n",
    "    givenName + \" \" + surName\n",
    "    \n",
    "// \"Construct\" a GivenName and a SurName\n",
    "let a2 = (GivenName \"Jakob\")\n",
    "let b2 = (SurName \"Christensen\")\n",
    "createDisplayName2 a2 b2"
   ]
  },
  {
   "cell_type": "markdown",
   "metadata": {},
   "source": [
    "If you accidentally switch the two arguments, you will get an error because the types `GivenName` and `SurName` are not considered the same by F#, even though they both contain strings."
   ]
  },
  {
   "cell_type": "code",
   "execution_count": null,
   "metadata": {
    "dotnet_interactive": {
     "language": "fsharp"
    }
   },
   "outputs": [
    {
     "data": {
      "application/x.notebook.error-traceback": {
       "ename": "Error",
       "evalue": "input.fsx (1,20)-(1,22) typecheck error This expression was expected to have type\n    'GivenName'    \nbut here has type\n    'SurName'    \ninput.fsx (1,23)-(1,25) typecheck error This expression was expected to have type\n    'SurName'    \nbut here has type\n    'GivenName'    ",
       "traceback": []
      }
     },
     "output_type": "unknown"
    }
   ],
   "source": [
    "createDisplayName2 b2 a2"
   ]
  },
  {
   "cell_type": "markdown",
   "metadata": {},
   "source": [
    "If you want to get the value \"inside\" a single case discriminated union, you need to deconstruct it.  The function `createDisplayName2` above shows how to do that easily for function parameters.  If you want to desconstruct without doing it as a function parameter, it is a bit more cumbersome.  This is how it is done."
   ]
  },
  {
   "cell_type": "code",
   "execution_count": null,
   "metadata": {
    "dotnet_interactive": {
     "language": "fsharp"
    }
   },
   "outputs": [
    {
     "data": {
      "text/plain": "Jakob"
     },
     "output_type": "unknown"
    }
   ],
   "source": [
    "let (GivenName deconstructedGivenName) = a2\n",
    "deconstructedGivenName"
   ]
  },
  {
   "cell_type": "markdown",
   "metadata": {},
   "source": [
    "## Collections\n",
    "A collection is a type that contains a list of other items.  Among others, F# has lists, arrays and sequences to contain other items in the same way that R has lists and arrays and Excel has table rows.  When you create a new collection, you tell F# what kind of items the collection contains.  It can be any type, like integers, string or `PersonPolicy2` items.  It can also be a collection of collections.  All items in a collection has to be of the same type.\n",
    "\n",
    "You have already seen an example of how to do that, like below where we create a list of `PersonPolicy2` items."
   ]
  },
  {
   "cell_type": "code",
   "execution_count": null,
   "metadata": {
    "dotnet_interactive": {
     "language": "fsharp"
    }
   },
   "outputs": [
    {
     "data": {
      "text/html": "<table><thead><tr><th><i>index</i></th><th>PersonId</th><th>PolicyNumber</th><th>Premium</th></tr></thead><tbody><tr><td>0</td><td>P1</td><td><table><thead><tr><th>Item</th></tr></thead><tbody><tr><td><div class=\"dni-plaintext\">Pol01</div></td></tr></tbody></table></td><td><div class=\"dni-plaintext\">100</div></td></tr><tr><td>1</td><td>P1</td><td><table><thead><tr><th>Item</th></tr></thead><tbody><tr><td><div class=\"dni-plaintext\">Pol02</div></td></tr></tbody></table></td><td><div class=\"dni-plaintext\">200</div></td></tr><tr><td>2</td><td>P2</td><td><table><thead><tr><th>Item</th></tr></thead><tbody><tr><td><div class=\"dni-plaintext\">Pol03</div></td></tr></tbody></table></td><td><div class=\"dni-plaintext\">150</div></td></tr><tr><td>3</td><td>P3</td><td><table><thead><tr><th>Item</th></tr></thead><tbody><tr><td><div class=\"dni-plaintext\">Pol04</div></td></tr></tbody></table></td><td><div class=\"dni-plaintext\">250</div></td></tr><tr><td>4</td><td>P3</td><td><table><thead><tr><th>Item</th></tr></thead><tbody><tr><td><div class=\"dni-plaintext\">Pol05</div></td></tr></tbody></table></td><td><div class=\"dni-plaintext\">350</div></td></tr></tbody></table>"
     },
     "output_type": "unknown"
    }
   ],
   "source": [
    "let data = \n",
    "    [ \n",
    "        { PersonId = \"P1\"; PolicyNumber = (NewPolicyNumber \"Pol01\"); Premium = 100m };\n",
    "        { PersonId = \"P1\"; PolicyNumber = (NewPolicyNumber \"Pol02\"); Premium = 200m };\n",
    "        { PersonId = \"P2\"; PolicyNumber = (NewPolicyNumber \"Pol03\"); Premium = 150m };\n",
    "        { PersonId = \"P3\"; PolicyNumber = (NewPolicyNumber \"Pol04\"); Premium = 250m };\n",
    "        { PersonId = \"P3\"; PolicyNumber = (NewPolicyNumber \"Pol05\"); Premium = 350m };\n",
    "    ]\n",
    "    \n",
    "data"
   ]
  },
  {
   "cell_type": "markdown",
   "metadata": {},
   "source": [
    "You have already seen in the first example some of the cool stuff you can do with the functions from the `List` module.  We will get back to that later on."
   ]
  },
  {
   "cell_type": "markdown",
   "metadata": {},
   "source": [
    "F# has a third collection type called a sequence.  A sequence is similar to a list, except that sequences can be *lazily* evaluated, meaning that they can actually be infinite!  You can create sequences on the fly using a *sequence expression* with.  For examplte you can create a list of squared numbers like so. "
   ]
  },
  {
   "cell_type": "code",
   "execution_count": null,
   "metadata": {
    "dotnet_interactive": {
     "language": "fsharp"
    }
   },
   "outputs": [
    {
     "data": {
      "text/html": "<table><thead><tr><th><i>index</i></th><th>value</th></tr></thead><tbody><tr><td>0</td><td><div class=\"dni-plaintext\">1</div></td></tr><tr><td>1</td><td><div class=\"dni-plaintext\">4</div></td></tr><tr><td>2</td><td><div class=\"dni-plaintext\">9</div></td></tr><tr><td>3</td><td><div class=\"dni-plaintext\">16</div></td></tr><tr><td>4</td><td><div class=\"dni-plaintext\">25</div></td></tr><tr><td>5</td><td><div class=\"dni-plaintext\">36</div></td></tr><tr><td>6</td><td><div class=\"dni-plaintext\">49</div></td></tr><tr><td>7</td><td><div class=\"dni-plaintext\">64</div></td></tr><tr><td>8</td><td><div class=\"dni-plaintext\">81</div></td></tr><tr><td>9</td><td><div class=\"dni-plaintext\">100</div></td></tr></tbody></table>"
     },
     "output_type": "unknown"
    }
   ],
   "source": [
    "seq { for i in 1 .. 10 -> i * i }"
   ]
  },
  {
   "cell_type": "markdown",
   "metadata": {},
   "source": [
    "Another way to create sequences is to *yield* elements. "
   ]
  },
  {
   "cell_type": "code",
   "execution_count": null,
   "metadata": {
    "dotnet_interactive": {
     "language": "fsharp"
    }
   },
   "outputs": [
    {
     "data": {
      "text/html": "<table><thead><tr><th><i>index</i></th><th>PersonId</th><th>PolicyNumber</th><th>Premium</th></tr></thead><tbody><tr><td>0</td><td>P1</td><td><table><thead><tr><th>Item</th></tr></thead><tbody><tr><td><div class=\"dni-plaintext\">Pol01</div></td></tr></tbody></table></td><td><div class=\"dni-plaintext\">100</div></td></tr><tr><td>1</td><td>P1</td><td><table><thead><tr><th>Item</th></tr></thead><tbody><tr><td><div class=\"dni-plaintext\">Pol02</div></td></tr></tbody></table></td><td><div class=\"dni-plaintext\">200</div></td></tr><tr><td>2</td><td>P2</td><td><table><thead><tr><th>Item</th></tr></thead><tbody><tr><td><div class=\"dni-plaintext\">Pol03</div></td></tr></tbody></table></td><td><div class=\"dni-plaintext\">150</div></td></tr><tr><td>3</td><td>P3</td><td><table><thead><tr><th>Item</th></tr></thead><tbody><tr><td><div class=\"dni-plaintext\">Pol04</div></td></tr></tbody></table></td><td><div class=\"dni-plaintext\">250</div></td></tr><tr><td>4</td><td>P3</td><td><table><thead><tr><th>Item</th></tr></thead><tbody><tr><td><div class=\"dni-plaintext\">Pol05</div></td></tr></tbody></table></td><td><div class=\"dni-plaintext\">350</div></td></tr></tbody></table>"
     },
     "output_type": "unknown"
    }
   ],
   "source": [
    "seq {\n",
    "    yield { PersonId = \"P1\"; PolicyNumber = (NewPolicyNumber \"Pol01\"); Premium = 100m }\n",
    "    yield { PersonId = \"P1\"; PolicyNumber = (NewPolicyNumber \"Pol02\"); Premium = 200m }\n",
    "    yield { PersonId = \"P2\"; PolicyNumber = (NewPolicyNumber \"Pol03\"); Premium = 150m }\n",
    "    yield { PersonId = \"P3\"; PolicyNumber = (NewPolicyNumber \"Pol04\"); Premium = 250m }\n",
    "    yield { PersonId = \"P3\"; PolicyNumber = (NewPolicyNumber \"Pol05\"); Premium = 350m }    \n",
    "}"
   ]
  },
  {
   "cell_type": "markdown",
   "metadata": {},
   "source": [
    "You will find more information on how to create sequences in the [Microsoft documentation](https://docs.microsoft.com/en-us/dotnet/fsharp/language-reference/sequences).\n",
    "\n",
    "You can create lists from sequences and vice versa using one of the functions `Seq.ofList`, `Seq.toList`, `List.ofSeq` and `List.toSeq`."
   ]
  },
  {
   "cell_type": "markdown",
   "metadata": {},
   "source": [
    "## Anonymous Types\n",
    "Anonymous types are like records without a name.  They are very useful when transforming data.  Let us revisit the first example where we created a record type `PersonPremium` for summing up premiums for a person's policies.\n",
    "\n",
    "```fsharp\n",
    "type PersonPremium = \n",
    "    {\n",
    "        PersonId: string;\n",
    "        Premium: decimal;\n",
    "    }\n",
    "```\n",
    "\n",
    "An anonymous type is defined with `{|` and `|}` like so."
   ]
  },
  {
   "cell_type": "code",
   "execution_count": null,
   "metadata": {
    "dotnet_interactive": {
     "language": "fsharp"
    }
   },
   "outputs": [
    {
     "data": {
      "text/html": "<table><thead><tr><th>PersonId</th><th>Premium</th></tr></thead><tbody><tr><td><div class=\"dni-plaintext\">123</div></td><td><div class=\"dni-plaintext\">100</div></td></tr></tbody></table>"
     },
     "output_type": "unknown"
    }
   ],
   "source": [
    "let v = \n",
    "    {|\n",
    "        PersonId = \"123\";\n",
    "        Premium = 100m;\n",
    "    |}\n",
    "    \n",
    "v"
   ]
  },
  {
   "cell_type": "markdown",
   "metadata": {},
   "source": [
    "So we can rewrite the original example using an anonymous type on the fly to hold the summed premiums, like so."
   ]
  },
  {
   "cell_type": "code",
   "execution_count": null,
   "metadata": {
    "dotnet_interactive": {
     "language": "fsharp"
    }
   },
   "outputs": [
    {
     "data": {
      "text/html": "<table><thead><tr><th><i>index</i></th><th>PersonId</th><th>Premium</th></tr></thead><tbody><tr><td>0</td><td>P1</td><td><div class=\"dni-plaintext\">300</div></td></tr><tr><td>1</td><td>P2</td><td><div class=\"dni-plaintext\">150</div></td></tr><tr><td>2</td><td>P3</td><td><div class=\"dni-plaintext\">600</div></td></tr></tbody></table>"
     },
     "output_type": "unknown"
    }
   ],
   "source": [
    "let groupedByPerson = \n",
    "    data\n",
    "    |> List.groupBy (fun personPolicy -> personPolicy.PersonId)\n",
    "    |> List.map (fun (personId, personPolicies) -> \n",
    "        {|  // Here begins the anonymous type\n",
    "            PersonId = personId; \n",
    "            Premium = personPolicies |> List.sumBy (fun personPolicy -> personPolicy.Premium) \n",
    "        |})\n",
    "    \n",
    "groupedByPerson"
   ]
  },
  {
   "cell_type": "markdown",
   "metadata": {},
   "source": [
    "## Tuples\n",
    "The last type we will discuss is the *tuple* type.  A tuple is a product type like records and anonymous types, except a tuple has no named records.  It is very easy to create a tuple.  All you have to do is write a comma-separated list of values, like so."
   ]
  },
  {
   "cell_type": "code",
   "execution_count": null,
   "metadata": {
    "dotnet_interactive": {
     "language": "fsharp"
    }
   },
   "outputs": [
    {
     "data": {
      "text/html": "<table><thead><tr><th>Item1</th><th>Item2</th></tr></thead><tbody><tr><td><div class=\"dni-plaintext\">23</div></td><td><div class=\"dni-plaintext\">hello</div></td></tr></tbody></table>"
     },
     "output_type": "unknown"
    }
   ],
   "source": [
    "let theTuple = (23, \"hello\")\n",
    "theTuple"
   ]
  },
  {
   "cell_type": "markdown",
   "metadata": {},
   "source": [
    "If you need get the values inside the tuple, you \"take it apart\" by deconstructing it, i.e. with *pattern matching*."
   ]
  },
  {
   "cell_type": "code",
   "execution_count": null,
   "metadata": {
    "dotnet_interactive": {
     "language": "fsharp"
    }
   },
   "outputs": [
    {
     "data": {
      "text/html": "<div class=\"dni-plaintext\">23</div>"
     },
     "output_type": "unknown"
    },
    {
     "data": {
      "text/plain": "hello"
     },
     "output_type": "unknown"
    }
   ],
   "source": [
    "let (theNumber, theString) = theTuple\n",
    "display(theNumber)\n",
    "display(theString)"
   ]
  },
  {
   "cell_type": "markdown",
   "metadata": {},
   "source": [
    "You have already used tuples in the first example when you created the plots.  Tuples were used for the labels and values in the graphs.  In line 2 below we map to a list of tuples."
   ]
  },
  {
   "cell_type": "code",
   "execution_count": null,
   "metadata": {
    "dotnet_interactive": {
     "language": "fsharp"
    }
   },
   "outputs": [
    {
     "data": {
      "text/plain": "Installed package XPlot.Plotly.Interactive version 4.0.2"
     },
     "output_type": "unknown"
    },
    {
     "data": {
      "text/markdown": "Loading extensions from `XPlot.Plotly.Interactive.dll`"
     },
     "output_type": "unknown"
    },
    {
     "data": {
      "text/markdown": "Configuring PowerShell Kernel for XPlot.Plotly integration."
     },
     "output_type": "unknown"
    },
    {
     "data": {
      "text/markdown": "Installed support for XPlot.Plotly."
     },
     "output_type": "unknown"
    },
    {
     "data": {
      "text/html": "<!DOCTYPE html>\r\n<div style=\"width: 900px; height: 500px;\" id=\"c9a60adb-a4b2-4300-a7e9-13bfbc582748\"></div><script type=\"text/javascript\">\r\n\nvar renderPlotly = function() {\n    var xplotRequire = require.config({context:'xplot-3.0.1',paths:{plotly:'https://cdn.plot.ly/plotly-1.49.2.min'}}) || require;\n    xplotRequire(['plotly'], function(Plotly) { \r\n\n            var data = [{\"type\":\"bar\",\"x\":[300.0,150.0,600.0],\"y\":[\"P1\",\"P2\",\"P3\"],\"orientation\":\"h\"}];\n           var layout = \"\";\n           Plotly.newPlot('c9a60adb-a4b2-4300-a7e9-13bfbc582748', data, layout);\n        \r\n});\n};\r\n// ensure `require` is available globally\r\nif ((typeof(require) !==  typeof(Function)) || (typeof(require.config) !== typeof(Function))) {\r\n    let require_script = document.createElement('script');\r\n    require_script.setAttribute('src', 'https://cdnjs.cloudflare.com/ajax/libs/require.js/2.3.6/require.min.js');\r\n    require_script.setAttribute('type', 'text/javascript');\r\n    \r\n    \r\n    require_script.onload = function() {\r\n        renderPlotly();\r\n    };\r\n\r\n    document.getElementsByTagName('head')[0].appendChild(require_script);\r\n}\r\nelse {\r\n    renderPlotly();\r\n}\r\n\r\n</script>\r\n"
     },
     "output_type": "unknown"
    }
   ],
   "source": [
    "#r \"nuget: XPlot.Plotly.Interactive\"\r\n",
    "open XPlot.Plotly\r\n",
    "\r\n",
    "groupedByPerson\r\n",
    "|> List.map (fun g -> g.PersonId, g.Premium)\r\n",
    "|> Chart.Bar"
   ]
  },
  {
   "cell_type": "markdown",
   "metadata": {},
   "source": [
    "Tuples are not limited to just two value.  You can put any number of values in a tuple."
   ]
  },
  {
   "cell_type": "code",
   "execution_count": null,
   "metadata": {
    "dotnet_interactive": {
     "language": "fsharp"
    }
   },
   "outputs": [
    {
     "data": {
      "text/html": "<table><thead><tr><th>Item1</th><th>Item2</th><th>Item3</th><th>Item4</th></tr></thead><tbody><tr><td><div class=\"dni-plaintext\">hello</div></td><td><div class=\"dni-plaintext\">42</div></td><td><div class=\"dni-plaintext\">65.34</div></td><td><div class=\"dni-plaintext\">2021-05-15 19:47:08Z</div></td></tr></tbody></table>"
     },
     "output_type": "unknown"
    },
    {
     "data": {
      "text/plain": "hello"
     },
     "output_type": "unknown"
    },
    {
     "data": {
      "text/html": "<div class=\"dni-plaintext\">42</div>"
     },
     "output_type": "unknown"
    },
    {
     "data": {
      "text/html": "<div class=\"dni-plaintext\">65.34</div>"
     },
     "output_type": "unknown"
    },
    {
     "data": {
      "text/html": "<span>2021-05-15 19:47:08Z</span>"
     },
     "output_type": "unknown"
    }
   ],
   "source": [
    "let tupleWithSeveralValues = \"hello\", 42, 65.34, DateTime.Now\n",
    "\n",
    "display(tupleWithSeveralValues)\n",
    "\n",
    "let (greeting, theAnswer, someNumber, today) = tupleWithSeveralValues\n",
    "\n",
    "display(greeting)\n",
    "display(theAnswer)\n",
    "display(someNumber)\n",
    "display(today)"
   ]
  },
  {
   "cell_type": "markdown",
   "metadata": {},
   "source": [
    "***\n",
    "References:\n",
    "* Microsoft documentation on Records - https://docs.microsoft.com/en-us/dotnet/fsharp/language-reference/records\n",
    "* Microsoft documentation on Discriminated Unitions - https://docs.microsoft.com/en-us/dotnet/fsharp/language-reference/discriminated-unions\n",
    "* Microsoft documentation on Sequences - https://docs.microsoft.com/en-us/dotnet/fsharp/language-reference/sequences\n"
   ]
  }
 ],
 "metadata": {
  "language_info": {},
  "orig_nbformat": 3
 },
 "nbformat": 4,
 "nbformat_minor": 4
}