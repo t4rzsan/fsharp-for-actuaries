{
 "cells": [
  {
   "cell_type": "markdown",
   "metadata": {},
   "source": [
    "# The Introduction\n",
    "Excel and R are popular and important tools for the Actuary and for anybody working with similar tasks.  They are great for discovering correlations and tendencies, and presenting visual presentations of data in graphs is a breeze.  R also has a wide range of libraries written by scientists for doing all kinds of work like likelihood estimation, machine learning and what not.\n",
    "\n",
    "But there is a flipside to both R and Excel.  You cannot write easily resuable and testable components in Excel and trying to debug long cell formulae is nearly impossible.  Using VBA does not help much.\n",
    "\n",
    "R is much better and its huge ecosystem of packages makes it attractive.  However, R lacks type safety and immutability, and multithreading and memory problems cause performance penalties.\n",
    "\n",
    "I cannot help but think that a language like F# offers a better alternative.  F# runs on the .NET platform, which like R has a great community with all kinds of open source libraries for stuff like machine learning, mathematics and statistics.  But unlike R, F#  offers type safety and immutable data structures out of the box, and it is performant with multithreading and memory garbage collection.\n",
    "\n",
    "This guide will hopefully show you that F# could be a better tool for reading, transforming and presenting data, which is basically what R and Excel do."
   ]
  }
 ],
 "metadata": {
  "kernelspec": {
   "display_name": ".NET (F#)",
   "language": "F#",
   "name": ".net-fsharp"
  },
  "language_info": {
   "file_extension": ".fs",
   "mimetype": "text/x-fsharp",
   "name": "C#",
   "pygments_lexer": "fsharp",
   "version": "4.5"
  }
 },
 "nbformat": 4,
 "nbformat_minor": 2
}
