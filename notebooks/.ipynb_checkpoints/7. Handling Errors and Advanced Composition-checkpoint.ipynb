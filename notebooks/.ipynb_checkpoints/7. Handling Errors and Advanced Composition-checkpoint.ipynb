{
 "cells": [
  {
   "cell_type": "markdown",
   "metadata": {},
   "source": [
    "# Handling Errors and Advanced Composition\n",
    "\n",
    "This chapter will teach you a way to handle errors by composing functions in a clever way.  It is not an easy topic but if for me, once I started to understand it, it irrevocably won me over to F# from C#.\n",
    "\n",
    "So far you have seen how you can compose pipelines of work using piping with `|>` and I have also mentioned how you can compose functions together with `>>`.  The composed pipelines can be pretty much self-documentating if you create small functions   with proper names that each do a small contained unit of work.  Here is an example (without actual implementation)."
   ]
  },
  {
   "cell_type": "code",
   "execution_count": 19,
   "metadata": {},
   "outputs": [],
   "source": [
    "type Email = Email of string\n",
    "type Name = Name of string\n",
    "type StreetAddress = StreetAddress of string\n",
    "type PostalCode = PostalCode of string\n",
    "type City = City of string\n",
    "type Address = \n",
    "    {\n",
    "        StreetAddress: StreetAddress;\n",
    "        PostalCode: PostalCode;\n",
    "        City: City;\n",
    "    }\n",
    "type Customer =\n",
    "    {\n",
    "        Email: Email;\n",
    "        Name: Name;\n",
    "        Address: Address;\n",
    "    }\n",
    "\n",
    "let validateEmail (customer: Customer) =\n",
    "    // Validate email\n",
    "    customer\n",
    "\n",
    "let validateNames customer = \n",
    "    // Validate names\n",
    "    customer\n",
    "\n",
    "let validateAddress customer =\n",
    "    // Validate address\n",
    "    customer\n",
    "\n",
    "let validate = \n",
    "    validateEmail \n",
    "    >> validateNames\n",
    "    >> validateAddress\n",
    "\n",
    "let storeCustomer customer =\n",
    "    // Store customer in database or something\n",
    "    ()\n",
    "\n",
    "let handleCustomer = \n",
    "    validate\n",
    "    >> storeCustomer\n"
   ]
  },
  {
   "cell_type": "markdown",
   "metadata": {},
   "source": [
    "The type of each of the validation functions is `Customer -> Customer` and `handleCustomer` has type `Customer -> unit`. Unit is a type that indicates the absense of a specific value, as it says in the [documentation](https://docs.microsoft.com/en-us/dotnet/fsharp/language-reference/unit-type).  Unit is similar to `void` in C# although it is not entirely the same.\n",
    "\n",
    "The above example is nice but what happens if one of the validations fail?  You could throw and exception like you might do in C# but throwing an exception may be a bit harsh for a simple incorrect email address and exceptions can be hard to recover from.  On the other hand, throwing an exception from the `storeCustomer` function might be appropriate because database access can fail for a number of different reasons that might be hard to recover from.\n",
    "\n",
    "What we would like to do is to change the validators so that they return a value indicating success or error.  Luckily, the creators of F# have built in such a type:\n",
    "```fsharp\n",
    "type Result<'T,'TError> =\n",
    "    | Ok of ResultValue:'T\n",
    "    | Error of ErrorValue:'TError\n",
    "```\n",
    "Let us change the validation function to return `Result`.  For testing purposes, I will add a parameter `fail` to make the function fail on demand.  We start with a new error type that describes each of the possible validation errors."
   ]
  },
  {
   "cell_type": "code",
   "execution_count": 20,
   "metadata": {},
   "outputs": [],
   "source": [
    "type ValidationError =\n",
    "    | EmailValidation of string\n",
    "    | NamesValidation\n",
    "    | AddressValidation of string\n",
    "    \n",
    "let validateEmailWithResult doFail (customer: Customer) = \n",
    "    if doFail then\n",
    "        Error(EmailValidation(\"The email is not in the correct format.\"))\n",
    "    else\n",
    "        Ok(customer)\n",
    "\n",
    "let validateNamesWithResult doFail (customer: Customer) = \n",
    "    if doFail then\n",
    "        Error(NamesValidation)\n",
    "    else\n",
    "        Ok(customer)\n",
    "\n",
    "let validateAddressWithResult doFail (customer: Customer) = \n",
    "    if doFail then\n",
    "        Error(AddressValidation(\"Street address is invalid.\"))\n",
    "    else\n",
    "        Ok(customer)"
   ]
  },
  {
   "cell_type": "markdown",
   "metadata": {},
   "source": [
    "But now, we will not be able to compose a `validateWithResult` because each function expects a `Customer` argument but returns a `Result<Customer, ValidationError>` and those two are not compatible.  Somehow we need to compose in a way that \"unwraps\" the `Customer` from `Result` and passes it on to the next validation function.\n",
    "\n",
    "What we need is to create a way to compose two functions like two validate functions into a new function that accepts a cusomer and returns a result of customer or an error.  If it returns an error, the pipelin should be stopped, i.e. the next function should be called.\n",
    "\n",
    "So that purpose we will define a so called infix operator `>=>` which looks very much like the `>>`.  It composes functions like `>>` but it does it by \"unwrapping\" the result automatically and passing it onto the next function."
   ]
  },
  {
   "cell_type": "code",
   "execution_count": 21,
   "metadata": {},
   "outputs": [],
   "source": [
    "let (>=>) a b x =\n",
    "    match a x with\n",
    "    | Ok v -> b v // If first function returns Ok, pass the result to the next function.\n",
    "    | Error reason -> Error(reason) // If the first function return Error, return the Error. "
   ]
  },
  {
   "cell_type": "markdown",
   "metadata": {},
   "source": [
    "In line 1, `a` and `b` are both functions:\n",
    "```\n",
    "a: 'inputA -> Result<'inputB, 'error>`\n",
    "b: 'inputB -> Result<'inputC, 'error>`\n",
    "```\n",
    "You can use the infix operator as a unary operator.  So if you write `validateEmail true >=> valideNames true`, you create a new function by partial application with the type \n",
    "```\n",
    "Customer -> Result<Customer, ValidationError>\n",
    "```\n",
    "\n",
    "We can now use `>=>` to compose the validation functions into a validation pipeline.  We will create on that returns `Ok` and one that fails."
   ]
  },
  {
   "cell_type": "code",
   "execution_count": 26,
   "metadata": {},
   "outputs": [
    {
     "name": "stdout",
     "output_type": "stream",
     "text": [
      "This one is ok: Ok { Email = Email \"jakob@domain.com\"\n",
      "     Name = Name \"Jakob Christensen\"\n",
      "     Address = { StreetAddress = StreetAddress \"1 Composition St\"\n",
      "                 PostalCode = PostalCode \"123456\"\n",
      "                 City = City \"Functional City\" } }\n",
      "Ths one failed: Error (EmailValidation \"The email is not in the correct format.\")\n"
     ]
    },
    {
     "data": {
      "text/html": [
       "<null>"
      ]
     },
     "execution_count": 26,
     "metadata": {},
     "output_type": "execute_result"
    }
   ],
   "source": [
    "let validateWithOk =\n",
    "    validateEmailWithResult false\n",
    "    >=> validateNamesWithResult false\n",
    "    >=> validateAddressWithResult false\n",
    "    \n",
    "let validateWithError = \n",
    "    validateEmailWithResult true // Force an error\n",
    "    >=> validateNamesWithResult false\n",
    "    >=> validateAddressWithResult false\n",
    "\n",
    "let customer =\n",
    "    {\n",
    "        Email = (Email \"jakob@domain.com\");\n",
    "        Name = (Name \"Jakob Christensen\");\n",
    "        Address = \n",
    "            {\n",
    "                StreetAddress = (StreetAddress \"1 Composition St\");\n",
    "                PostalCode = (PostalCode \"123456\");\n",
    "                City = (City \"Functional City\")\n",
    "            };\n",
    "    }\n",
    "\n",
    "printfn \"This one is ok: %A\" (validateWithOk customer)\n",
    "printfn \"Ths one failed: %A\" (validateWithError customer)\n"
   ]
  },
  {
   "cell_type": "markdown",
   "metadata": {},
   "source": [
    "The `>=>` operator is called the Kleisli Composition, also popularized as railway programming, as the two values `Ok` and `Error` can be seen as two different tracks through the pipeline.\n",
    "\n",
    "You might remember that I mentioend the `Option.bind` function previously in the chapter \"Structuring Data\".  F# has a similar `Result.bind` function that \"unwraps\" a `Result` value.  It is related to what we did above and there is indeed another type of composition done through the `bind` function.  Usually that kind of composition is called `>>==`. "
   ]
  },
  {
   "cell_type": "code",
   "execution_count": 23,
   "metadata": {},
   "outputs": [],
   "source": [
    "let (>>=) x f = Result.bind f x"
   ]
  },
  {
   "cell_type": "markdown",
   "metadata": {},
   "source": [
    "With `>>=` you can create a new form for composition."
   ]
  },
  {
   "cell_type": "code",
   "execution_count": 24,
   "metadata": {},
   "outputs": [],
   "source": [
    "let validateWithError2 x =\n",
    "    x\n",
    "    |> (validateEmailWithResult true)\n",
    "    >>= (validateNamesWithResult false)\n",
    "    >>= (validateAddressWithResult false)"
   ]
  },
  {
   "cell_type": "markdown",
   "metadata": {},
   "source": [
    "The function `validateWithError2` has the same type as `validateWithError` above:\n",
    "```\n",
    "Customer -> Result<Customer, ValidationError>\n",
    "```\n",
    "Personally, I find it easier to understand the Kleisli composition `>=>` than the `bind` one `>>=`.  Sometimes I find it easer to reason about `>>=` if I split it up in steps, like so."
   ]
  },
  {
   "cell_type": "code",
   "execution_count": 25,
   "metadata": {},
   "outputs": [],
   "source": [
    "let t1 x = x |> (validateEmailWithResult true)\n",
    "let t2 x = (t1 x) >>= (validateNamesWithResult false)\n",
    "let t3 x = (t2 x) >>= (validateAddressWithResult false)"
   ]
  },
  {
   "cell_type": "markdown",
   "metadata": {},
   "source": [
    "Here, `t3` and `validateWithError2` do the same thing.\n",
    "***\n",
    "References:\n",
    "* Railway oriented programming - https://fsharpforfunandprofit.com/posts/recipe-part2/\n",
    "* Impeachment in a Functional Way - https://dev.to/t4rzsan/impeachment-in-a-functional-way-14mj\n",
    "* Some Advice on Error Handling in F# - https://docs.microsoft.com/en-us/dotnet/fsharp/language-reference/results\n",
    "* Heinrich Kleisli - https://en.wikipedia.org/wiki/Heinrich_Kleisli\n",
    "* Microsoft Documentation on Result - https://docs.microsoft.com/en-us/dotnet/fsharp/language-reference/results"
   ]
  }
 ],
 "metadata": {
  "kernelspec": {
   "display_name": ".NET (F#)",
   "language": "F#",
   "name": ".net-fsharp"
  },
  "language_info": {
   "file_extension": ".fs",
   "mimetype": "text/x-fsharp",
   "name": "C#",
   "pygments_lexer": "fsharp",
   "version": "4.5"
  }
 },
 "nbformat": 4,
 "nbformat_minor": 2
}
