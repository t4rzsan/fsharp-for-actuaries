{
 "cells": [
  {
   "cell_type": "markdown",
   "metadata": {},
   "source": [
    "# Reading Data\n",
    "Now that we have the building blocks, types and functions, in place, we can start working with actual data.  Usually you'd read data from CSV files and from databases.\n",
    "\n",
    "## Reading from CSV files\n",
    "The easiest way for you to read data from a CSV file is to use the F# [CSV type provider](https://fsharp.github.io/FSharp.Data/library/CsvProvider.html).  The type provider reads the file and automatically generates types based on the columns in the file, which makes it very easy for you to handle the data.\n",
    "\n",
    "I have created a [sample file](Policies.csv) looking like this.\n",
    "\n",
    "```\n",
    "PersonId;PolicyNumber;Age;Group;Gender;Premium;TechnicalProvision\n",
    "1;Pol001;55;R2;m;100;1233,54\n",
    "1;Pol002;55;R2;m;150;264,23\n",
    "2;Pol003;32;R3;f;125;5465,32\n",
    "2;Pol004;32;R3;f;300;475,23\n",
    "3;Pol005;20;R2;m;400;234\n",
    "4;Pol006;64;R2;f;167;5343,64\n",
    "```\n",
    "As you can see, the file is actually semicolon-separated and the amounts use a comma as decimal-separator (Scandinavian-style).  The CSV type provider lets you configure a lot of things like the separator and the culture (country). You can create the type provider in two ways: Either by using a file as template or by defining the columns manually.  In the first case, the provider will try and guess the type for each column based on the data for that column.  If the provider guesses wrong, you can override the type of each column.\n",
    "\n",
    "Let us see how that works."
   ]
  },
  {
   "cell_type": "code",
   "execution_count": 2,
   "metadata": {
    "scrolled": true
   },
   "outputs": [
    {
     "data": {
      "text/html": [
       "<table><thead><tr><th>Item1</th><th>Item2</th></tr></thead><tbody><tr><td>Pol001</td><td>1233,54</td></tr></tbody></table>"
      ]
     },
     "metadata": {},
     "output_type": "display_data"
    }
   ],
   "source": [
    "// Start by loading the FSharp.Data package with the CSV type provider.\n",
    "#r \"nuget: FSharp.Data\"\n",
    "open FSharp.Data\n",
    "\n",
    "[<Literal>]\n",
    "let csvFilePath = \"https://raw.githubusercontent.com/t4rzsan/fsharp-for-actuaries/master/notebooks/Policies.csv\"\n",
    "\n",
    "// The easiest way to configure CsvProvider is to specify the columns as a sample.\n",
    "type PoliciesProvider = CsvProvider<Sample=\"PersonId;PolicyNumber;Age;Group;Gender;Premium;TechnicalProvision\", Culture=\"da-DK\", Separators=\";\">\n",
    "\n",
    "// Load the Policies.csv file.  This does not have to be the same file as the one used as template.\n",
    "let policies = PoliciesProvider.Load(csvFilePath).Rows\n",
    "let firstRow = policies |> Seq.head\n",
    "display(firstRow.PolicyNumber, firstRow.TechnicalProvision)"
   ]
  },
  {
   "cell_type": "markdown",
   "metadata": {},
   "source": [
    "In lines 10 and 11 you can see how the type provider has automatically created a type representing a row in the CSV file.  The generated type lets you access the values of each row throw the column names.\n",
    "\n",
    "The question is: Did the type provider make the correct guess for the column types?  Let's have a look at the premium column."
   ]
  },
  {
   "cell_type": "code",
   "execution_count": 3,
   "metadata": {
    "scrolled": true
   },
   "outputs": [
    {
     "data": {
      "text/html": [
       "<span><a href=\"https://docs.microsoft.com/dotnet/api/System.String?view=netcore-3.0\">System.String</a></span>"
      ]
     },
     "execution_count": 3,
     "metadata": {},
     "output_type": "execute_result"
    }
   ],
   "source": [
    "firstRow.Premium.GetType()"
   ]
  },
  {
   "cell_type": "markdown",
   "metadata": {},
   "source": [
    "It looks like the type provider thinks the premium is an integer.  It made that guess because currently there are no decimal numbers in the premium column in the file.  By default the provider uses the first 1000 lines to determine the type (you can change that number).  Let us create a new provider where we override that guess, using the `Schema` property."
   ]
  },
  {
   "cell_type": "code",
   "execution_count": 4,
   "metadata": {
    "scrolled": true
   },
   "outputs": [
    {
     "data": {
      "text/html": [
       "<span><a href=\"https://docs.microsoft.com/dotnet/api/System.Decimal?view=netcore-3.0\">System.Decimal</a></span>"
      ]
     },
     "execution_count": 4,
     "metadata": {},
     "output_type": "execute_result"
    }
   ],
   "source": [
    "type PoliciesProvider2 = CsvProvider<Sample=\"PersonId;PolicyNumber;Age;Group;Gender;Premium;TechnicalProvision\", Culture=\"da-DK\", Separators=\";\", Schema=\"Premium=decimal, TechnicalProvision=decimal\">\n",
    "let policies2 = PoliciesProvider2.Load(csvFilePath).Rows\n",
    "let firstRow2 = policies2 |> Seq.head\n",
    "firstRow2.Premium.GetType()"
   ]
  },
  {
   "cell_type": "markdown",
   "metadata": {},
   "source": [
    "Now the premium is interpreted as a decimal.  Much better!\n",
    "\n",
    "The `Rows` property is a sequence so you can use all the functions of the `Seq` module to analyse and transform the data, similar to what you have done previously for lists."
   ]
  },
  {
   "cell_type": "markdown",
   "metadata": {},
   "source": [
    "## Reading from Microsoft SQL Server\n",
    "You will often have to read data from a database and Microsoft SQL Server might be one such database server.  If you Google reading from SQL Server using F# you will find a plethora of open source libraries that will help you out.  Below I will show you a plain vanilla example on how to read data using nothing but the built in SQL class from .NET.  We will use [SqlConnection](https://docs.microsoft.com/en-us/dotnet/api/system.data.sqlclient.sqlconnection?view=dotnet-plat-ext-3.1&viewFallbackFrom=netcore-3.0) and its friend [SqlCommand](https://docs.microsoft.com/en-us/dotnet/api/system.data.sqlclient.sqlcommand?view=dotnet-plat-ext-3.1) to open a connection and run a SQL query.  We will use a sequence expression to create a sequence of the rows returned from SQL.\n",
    "\n",
    "```fsharp\n",
    "type PolicyNumber = PolicyNumber of string\n",
    "\n",
    "type Policy =\n",
    "    {\n",
    "        PolicyNumber: PolicyNumber;\n",
    "        Premium: decimal;\n",
    "    }\n",
    "\n",
    "let getPolicies () =\n",
    "    let policies = \n",
    "        seq {\n",
    "            use cn = new SqlConnection(@\"Integrated Security=SSPI;Persist Security Info=False;Initial Catalog=YOURDATABASE;Data Source=YOURSQLSERVER\")\n",
    "            use cmd = new SqlCommand(\"SELECT PolicyNumber, Premium FROM Policy\", cn)\n",
    "            cn.Open()\n",
    "            use reader = cmd.ExecuteReader()\n",
    "            while reader.Read() do\n",
    "                yield {\n",
    "                    PolicyNumber = (PolicyNumber (string reader.[\"PolicyNumber\"]));\n",
    "                    Premium = Convert.ToDecimal(reader.[\"Premium\"]);\n",
    "                }\n",
    "        }\n",
    "\n",
    "```"
   ]
  },
  {
   "cell_type": "markdown",
   "metadata": {},
   "source": [
    "Admittedly, this looks a bit messy and not very functional but it is one way to do it.\n",
    "***\n",
    "References:\n",
    "* CSV Type Provider - https://fsharp.github.io/FSharp.Data/library/CsvProvider.html"
   ]
  }
 ],
 "metadata": {
  "kernelspec": {
   "display_name": ".NET (F#)",
   "language": "F#",
   "name": ".net-fsharp"
  },
  "language_info": {
   "file_extension": ".fs",
   "mimetype": "text/x-fsharp",
   "name": "C#",
   "pygments_lexer": "fsharp",
   "version": "4.5"
  }
 },
 "nbformat": 4,
 "nbformat_minor": 2
}
