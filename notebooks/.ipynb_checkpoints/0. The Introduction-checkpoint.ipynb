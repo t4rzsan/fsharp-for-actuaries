{
 "cells": [
  {
   "cell_type": "markdown",
   "metadata": {},
   "source": [
    "# The Introduction\n",
    "## Who is this Guide for? (Is It Really for Actuaries Only?)\n",
    "No, this guide is not for actuaries only.  It is for anybody who, like actuaries, uses R, Excel or similar tools extensively for data analysis but who at the time feels slighly annoyed by those tools.\n",
    "\n",
    "Excel and R are popular and important tools for the actuary and for anybody working with similar tasks.  They are great for discovering correlations and tendencies, and presenting visual presentations of data in graphs is a breeze.  R also has a wide range of libraries written by scientists for doing all kinds of work like likelihood estimation, machine learning and what not.\n",
    "\n",
    "But there is a flipside to both R and Excel.  \n",
    "\n",
    "You cannot write easily resuable and testable components in Excel and trying to debug long cell formulae is nearly impossible.  Memory consumption is insane.  Using VBA does not help much.\n",
    "\n",
    "R does a better job and its huge ecosystem of packages makes it attractive.  However, R lacks type safety and immutability, and multithreading and memory problems cause performance penalties.\n",
    "\n",
    "I cannot help but think that a language like F# offers a better alternative.  F# runs on the .NET platform, which like R has a great community with all kinds of open source libraries for stuff like machine learning, mathematics and statistics.  But unlike R, F#  offers type safety and immutable data structures out of the box, and it is performant with multithreading and memory garbage collection.\n",
    "\n",
    "This goal of this guide is to introduce you to F# and show you that F# could be a better tool for reading, transforming and presenting data.\n",
    "\n",
    "## What is F#?\n",
    "F# is a so-called functional first programming launguage.  Since it runs on .NET, F# is cross platform, meaning that you can run it on Windows, macOS and Linux, whatever your flavour is.  It also means that you can interop with libraries written in any other .NET language, including C#.  Therefore, F# also has object oriented capabilities but as said, it is functional first.  Later in this guide you will read more on what that means.\n",
    "\n",
    "F# can be used for data analysis as a scripting language much like you would use R.  But you can build anything with F# since it is on the .NET platform.  You can build console applications, Windows applications and even web sites like online banking systems and what not.  There are no limits.\n",
    "\n",
    "### How Do You Get Started with F#?\n",
    "\n",
    "### Where Do I Get Help?\n",
    "\n",
    "\n",
    "## What is this Guide not?\n",
    "This guide will not teach you how to program.  It will instead give you a practical brief introduction to the functional aspects of F# and show you how to apply those to the kind of data we work with every day.  There are a lot of areas of F# that I will not show you and I enourage you to be curious and discover all the coolness of F# on your own."
   ]
  }
 ],
 "metadata": {
  "kernelspec": {
   "display_name": ".NET (F#)",
   "language": "F#",
   "name": ".net-fsharp"
  },
  "language_info": {
   "file_extension": ".fs",
   "mimetype": "text/x-fsharp",
   "name": "C#",
   "pygments_lexer": "fsharp",
   "version": "4.5"
  }
 },
 "nbformat": 4,
 "nbformat_minor": 2
}
