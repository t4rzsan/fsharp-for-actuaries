{
 "cells": [
  {
   "cell_type": "markdown",
   "metadata": {},
   "source": [
    "# Functions\n",
    "As you might have guessed, functions are really important in a functional language.  Functions are where the real work is done in a program.  A function in F# takes some data as input and creates some new data a output.\n",
    "\n",
    "In F# a function is a value just like any other value, so you define a function with the `let` keyword.  A function is defined by its name, arguments (input) and ouput type.  In other programming languages you ususally see arguments surrounded by parentheses and commas, but not in  F#.  \n",
    "\n",
    "Since functions are really just values, you can pass a function as a parameter to another function which is very useful.  For example, you can use it to compose two functions to create a third new function.\n",
    "\n",
    "Let us define our first function."
   ]
  },
  {
   "cell_type": "code",
   "execution_count": 11,
   "metadata": {},
   "outputs": [
    {
     "data": {
      "text/html": [
       "16"
      ]
     },
     "execution_count": 11,
     "metadata": {},
     "output_type": "execute_result"
    }
   ],
   "source": [
    "let square x =\n",
    "    x * x\n",
    "    \n",
    "square 4"
   ]
  },
  {
   "cell_type": "markdown",
   "metadata": {},
   "source": [
    "The `square` function takes one argument `x`.  Since we call `square` with an integer, F# will assume that `x` is an integer and the output value is also an integer.\n",
    "\n",
    "You can define functions with multiple arguments."
   ]
  },
  {
   "cell_type": "code",
   "execution_count": 12,
   "metadata": {},
   "outputs": [],
   "source": [
    "let add x y = \n",
    "    x + y"
   ]
  },
  {
   "cell_type": "markdown",
   "metadata": {},
   "source": [
    "Since a function is a value, you can pass it as an argument to other functions.  You already seen that for the `List` functions where you passed a function to filter or transform lists."
   ]
  },
  {
   "cell_type": "code",
   "execution_count": 13,
   "metadata": {},
   "outputs": [
    {
     "data": {
      "text/html": [
       "300"
      ]
     },
     "execution_count": 13,
     "metadata": {},
     "output_type": "execute_result"
    }
   ],
   "source": [
    "type PersonPremium = \n",
    "    {\n",
    "        PersonId: string;\n",
    "        Premium: decimal;\n",
    "    }\n",
    "    \n",
    "let data = \n",
    "    [\n",
    "        { PersonId = \"001\"; Premium = 100m };\n",
    "        { PersonId = \"002\"; Premium = 200m };\n",
    "    ]\n",
    "    \n",
    "let getPremium p =\n",
    "    p.Premium\n",
    "    \n",
    "let totalPremium =\n",
    "    data \n",
    "    |> List.map getPremium // Pass the function as a parameter to the List.map function\n",
    "    |> List.sum\n",
    "    \n",
    "totalPremium"
   ]
  },
  {
   "cell_type": "markdown",
   "metadata": {},
   "source": [
    "You can also define functions that don't have a name with the `fun` keyword which you also saw in the first example."
   ]
  },
  {
   "cell_type": "code",
   "execution_count": 14,
   "metadata": {},
   "outputs": [
    {
     "data": {
      "text/html": [
       "<table><thead><tr><th><i>index</i></th><th>value</th></tr></thead><tbody><tr><td>0</td><td>100</td></tr><tr><td>1</td><td>200</td></tr></tbody></table>"
      ]
     },
     "execution_count": 14,
     "metadata": {},
     "output_type": "execute_result"
    }
   ],
   "source": [
    "let premiums = \n",
    "    data\n",
    "    |> List.map (fun p -> p.Premium)\n",
    "    \n",
    "premiums"
   ]
  },
  {
   "cell_type": "markdown",
   "metadata": {},
   "source": [
    "As a matter of fact, the two functions `getPremium1` and `getPremium2` below are equivalent."
   ]
  },
  {
   "cell_type": "code",
   "execution_count": 15,
   "metadata": {},
   "outputs": [
    {
     "data": {
      "text/html": [
       "100"
      ]
     },
     "metadata": {},
     "output_type": "display_data"
    },
    {
     "data": {
      "text/html": [
       "100"
      ]
     },
     "metadata": {},
     "output_type": "display_data"
    }
   ],
   "source": [
    "let getPremium1 p =\n",
    "    p.Premium\n",
    "\n",
    "let getPremium2 =\n",
    "    fun p -> p.Premium\n",
    "    \n",
    "display(getPremium1(data |> List.head))\n",
    "display(getPremium2(data |> List.head))"
   ]
  },
  {
   "cell_type": "markdown",
   "metadata": {},
   "source": [
    "## Functions Have a Type\n",
    "Like any other value, a function has a type.  With sort of a sloppy notation, you write a functions type as `f: arg1 -> arg2 -> arg3 -> return value`.  You can even define types that tells F# what a function should look like."
   ]
  },
  {
   "cell_type": "code",
   "execution_count": 16,
   "metadata": {},
   "outputs": [
    {
     "name": "stdout",
     "output_type": "stream",
     "text": [
      "result: 6\n"
     ]
    },
    {
     "data": {
      "text/html": [
       "<null>"
      ]
     },
     "execution_count": 16,
     "metadata": {},
     "output_type": "execute_result"
    }
   ],
   "source": [
    "// Define the type for our funtion.  It takes two int arguments and returns another int.\n",
    "type MyFuncType = int -> int -> int\n",
    "\n",
    "// Define a function that takes another function of type MyFuncType as argument.\n",
    "// This function has type MyFuncType -> int.\n",
    "let useMyFunc (f: MyFuncType) =\n",
    "    f 2 3\n",
    "\n",
    "// This function has type int -> int, i.e. it is compatible with MyFuncType.\n",
    "let myFunc a b =\n",
    "    a * b\n",
    "\n",
    "// Pass myFunc as an argument to useMyFunc.\n",
    "let result = useMyFunc myFunc\n",
    "\n",
    "printfn \"result: %d\" result\n"
   ]
  },
  {
   "cell_type": "markdown",
   "metadata": {},
   "source": [
    "Functions and generics are very often used together.  For example, you may write a function that uses the generic option type.  This function unwraps an option, applies the function `f` and wraps the result in an option."
   ]
  },
  {
   "cell_type": "code",
   "execution_count": 17,
   "metadata": {},
   "outputs": [
    {
     "name": "stdout",
     "output_type": "stream",
     "text": [
      "Some 8\n"
     ]
    },
    {
     "data": {
      "text/html": [
       "<null>"
      ]
     },
     "execution_count": 17,
     "metadata": {},
     "output_type": "execute_result"
    }
   ],
   "source": [
    "let apply f v =\n",
    "    match v with \n",
    "    | Some value -> Some(f value)\n",
    "    | None -> None\n",
    "\n",
    "let result = apply (fun x -> x * 2) (Some(4))\n",
    "printfn \"%A\" result"
   ]
  },
  {
   "cell_type": "markdown",
   "metadata": {},
   "source": [
    "As we will see later, applying functions to \"wrapped\" values is so essential in functional programming that the `Option` type has it built in, although it is called [`Option.bind`](https://fsharp.github.io/fsharp-core-docs/reference/fsharp-core-optionmodule.html#bind) instead of `apply`."
   ]
  },
  {
   "cell_type": "markdown",
   "metadata": {},
   "source": [
    "## The Pipe Operator\n",
    "This brings us to the pipe operator `|>`.  By now, you have seen it used a couple of times.  The pipe operator replaces the last argument of the function on the left hand side with whatever is on the right hand side.  So lines 1 and 2 below are equivalent:"
   ]
  },
  {
   "cell_type": "code",
   "execution_count": 18,
   "metadata": {},
   "outputs": [
    {
     "data": {
      "text/html": [
       "16"
      ]
     },
     "execution_count": 18,
     "metadata": {},
     "output_type": "execute_result"
    }
   ],
   "source": [
    "4 |> square\n",
    "square 4"
   ]
  },
  {
   "cell_type": "markdown",
   "metadata": {},
   "source": [
    "Similarly, this:"
   ]
  },
  {
   "cell_type": "code",
   "execution_count": 19,
   "metadata": {},
   "outputs": [
    {
     "data": {
      "text/html": [
       "300"
      ]
     },
     "execution_count": 19,
     "metadata": {},
     "output_type": "execute_result"
    }
   ],
   "source": [
    "let totalpremium =\n",
    "    data \n",
    "    |> List.map (fun p -> p.Premium)\n",
    "    |> List.sum\n",
    "totalPremium"
   ]
  },
  {
   "cell_type": "markdown",
   "metadata": {},
   "source": [
    "... is equivalent to this:"
   ]
  },
  {
   "cell_type": "code",
   "execution_count": 20,
   "metadata": {},
   "outputs": [
    {
     "data": {
      "text/html": [
       "300"
      ]
     },
     "execution_count": 20,
     "metadata": {},
     "output_type": "execute_result"
    }
   ],
   "source": [
    "let listOfPremiums = List.map (fun p -> p.Premium) data\n",
    "let totalPremium = List.sum listOfPremiums\n",
    "totalPremium"
   ]
  },
  {
   "cell_type": "markdown",
   "metadata": {},
   "source": [
    "You might see why most people think the `|>` operator is very elegant.\n",
    "\n",
    "## Composition"
   ]
  },
  {
   "cell_type": "markdown",
   "metadata": {},
   "source": [
    "In mathematics you can compose functions $f: A \\mapsto B$, $g: B \\mapsto C$ as \n",
    "\n",
    "$$h = g \\circ f: A \\mapsto C.$$\n",
    "\n",
    "You can also put it as $h(X) = g(f(X))$.\n",
    "\n",
    "You can do the same in F# with the `>>` operator, just note that the operands are switched around, so that you would use `f >> g`.  Let's say you want to calculate a yearly fee for all your monthly premiums.  First you create a function `f` the calculates the yearly premium and then a function `g` that calculates the fee of 3 percent.  You want to combine those two to one function `h`."
   ]
  },
  {
   "cell_type": "code",
   "execution_count": 24,
   "metadata": {},
   "outputs": [
    {
     "data": {
      "text/html": [
       "3.60"
      ]
     },
     "execution_count": 24,
     "metadata": {},
     "output_type": "execute_result"
    }
   ],
   "source": [
    "\n",
    "type MonthlyPremium = MontlyPremium of decimal\n",
    "type AnnualPremium = AnnualPremium of decimal\n",
    "\n",
    "let f (MontlyPremium premium) = 12m * premium |> AnnualPremium\n",
    "let g (AnnualPremium premium) = 0.03m * premium\n",
    "\n",
    "let h = f >> g // In real life you would use better function names, right?\n",
    "let annualFee = h (MontlyPremium 10m)\n",
    "annualFee"
   ]
  },
  {
   "cell_type": "markdown",
   "metadata": {},
   "source": [
    "Note how we use single case discriminated unions to distinguish between monthly and annual premiums.\n",
    "\n",
    "There are other more advanced ways to compose functions in F# which we will get back to later. "
   ]
  },
  {
   "cell_type": "markdown",
   "metadata": {},
   "source": [
    "## Partial Application\n",
    "You can define new functions from existing functions by specifying some of the arguments (starting from the left) but not all.  This is called *partial application*.  Let us redefine the function above for calculating the fee to show how it is done."
   ]
  },
  {
   "cell_type": "code",
   "execution_count": 22,
   "metadata": {},
   "outputs": [
    {
     "ename": "Unhandled exception",
     "evalue": "input.fsx (1,23)-(1,36) typecheck error The pattern discriminator 'AnnualPremium' is not defined.\ninput.fsx (4,21)-(4,34) typecheck error The value or constructor 'AnnualPremium' is not defined.",
     "output_type": "error",
     "traceback": [
      "input.fsx (1,23)-(1,36) typecheck error The pattern discriminator 'AnnualPremium' is not defined.\ninput.fsx (4,21)-(4,34) typecheck error The value or constructor 'AnnualPremium' is not defined."
     ]
    }
   ],
   "source": [
    "let calculateFee fee (AnnualPremium premium) =\n",
    "    fee * premium\n",
    "    \n",
    "calculateFee 0.03m (AnnualPremium 120m)"
   ]
  },
  {
   "cell_type": "markdown",
   "metadata": {},
   "source": [
    "If the fee is always 3 percent throughout your program, it may get tiring to always type it out whenever you call `calculateFee`.  So using partial application you can define a new function with the fee set to 3 percent."
   ]
  },
  {
   "cell_type": "code",
   "execution_count": 23,
   "metadata": {},
   "outputs": [
    {
     "ename": "Unhandled exception",
     "evalue": "input.fsx (2,5)-(2,17) typecheck error The value or constructor 'calculateFee' is not defined.\ninput.fsx (4,23)-(4,36) typecheck error The value or constructor 'AnnualPremium' is not defined.",
     "output_type": "error",
     "traceback": [
      "input.fsx (2,5)-(2,17) typecheck error The value or constructor 'calculateFee' is not defined.\ninput.fsx (4,23)-(4,36) typecheck error The value or constructor 'AnnualPremium' is not defined."
     ]
    }
   ],
   "source": [
    "let calculateFee3Percent = \n",
    "    calculateFee 0.03m // Only specify the first argument\n",
    "    \n",
    "calculateFee3Percent (AnnualPremium 120m)"
   ]
  },
  {
   "cell_type": "markdown",
   "metadata": {},
   "source": [
    "The new function `calculateFee3Percent` is a function of 1 argument.\n",
    "\n",
    "Partial application may help you understand how the pipe operator works."
   ]
  }
 ],
 "metadata": {
  "kernelspec": {
   "display_name": ".NET (F#)",
   "language": "F#",
   "name": ".net-fsharp"
  },
  "language_info": {
   "file_extension": ".fs",
   "mimetype": "text/x-fsharp",
   "name": "C#",
   "pygments_lexer": "fsharp",
   "version": "4.5"
  }
 },
 "nbformat": 4,
 "nbformat_minor": 2
}
