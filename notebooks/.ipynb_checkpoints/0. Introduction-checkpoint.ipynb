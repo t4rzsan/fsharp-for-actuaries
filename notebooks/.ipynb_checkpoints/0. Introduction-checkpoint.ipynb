{
 "cells": [
  {
   "cell_type": "markdown",
   "metadata": {},
   "source": [
    "# Introduction\n",
    "## Who is this Guide for? (Is It Really for Actuaries Only?)\n",
    "No, this guide is not for actuaries only.  It is for anybody who, like actuaries, uses R, Excel or similar tools extensively for data analysis but who at the time feels slighly annoyed by those tools.\n",
    "\n",
    "Excel and R are popular and important tools for the actuary and for anybody working with similar tasks.  They are great for discovering correlations and tendencies, and presenting visual presentations of data in graphs is a breeze.  R also has a wide range of libraries written by scientists for doing all kinds of work like likelihood estimation, machine learning and what not.\n",
    "\n",
    "But there is a flipside to both R and Excel.  \n",
    "\n",
    "You cannot write easily resuable and testable components in Excel and trying to debug long cell formulae is nearly impossible.  Memory consumption is insane.  Using VBA does not help much.\n",
    "\n",
    "R does a better job and its huge ecosystem of packages makes it attractive.  However, R lacks type safety and immutability, and multithreading and memory problems cause performance penalties.\n",
    "\n",
    "I cannot help but think that a language like F# offers a better alternative.  F# runs on the .NET platform, which like R has a great community with all kinds of open source libraries for stuff like machine learning, mathematics and statistics.  But unlike R, F#  offers type safety and immutable data structures out of the box, and it is performant with multithreading and memory garbage collection.\n",
    "\n",
    "This goal of this guide is to introduce you to F# and show you that F# could be a better tool for reading, transforming and presenting data.\n",
    "\n",
    "## What is F#?\n",
    "F# (pronounced f-sharp)\n",
    "is a so-called functional first programming launguage.  Since it runs on .NET, F# is cross platform, meaning that you can run it on Windows, macOS and Linux, whatever your flavour is.  It also means that you can interop with libraries written in any other .NET language, including C#.  Therefore, F# also has object oriented capabilities but as said, it is functional first.  Later in this guide you will read more on what that means.\n",
    "\n",
    "F# can be used for data analysis as a scripting language much like you would use R.  But you can build anything with F# since it is on the .NET platform.  You can build console applications, Windows applications and even web sites like online banking systems and what not.  There are no limits.\n",
    "\n",
    "### How Do You Get Started with F#?\n",
    "\n",
    "Have a look at [Get Started with F#](https://docs.microsoft.com/en-us/dotnet/fsharp/get-started/) on Microsoft Docs.  As I mentioned, you have a lot of options with F#.  You can use it as a scripting language, and you can create executables, Windows applications or web sites.  This guid is written in Jupyter Notebook which gives you an interactive guide where you can edit and execute the code samples inline.  \n",
    "\n",
    "Note that the guide is written for F# 5.0 which is in preview at the time of writing.  Some of the features like anonymous types are not available in versions before 5.0.\n",
    "\n",
    "### Where Do I Get Help?\n",
    "\n",
    "The [F# documentation](https://docs.microsoft.com/en-us/dotnet/fsharp/) on Microsoft Docs is huge.  \n",
    "\n",
    "The best guide out there is probably [F# for Fun and Profit](https://fsharpforfunandprofit.com/) by Scott Wlaschin.  He has also done a lot of talks, mostly on NDC conferences (Google them) and he has written an excellent book on writing line of business applications in F#: [Domain Modelling Made Functional](https://www.bookdepository.com/Domain-Modeling-Made-Functional-Scott-Wlaschin/9781680502541).\n",
    "\n",
    "[StackOverflow](https://stackoverflow.com/questions/tagged/f%23) is always ready with some answers and there is an [#fsharp](https://twitter.com/hashtag/fsharp) hash tag on the Twitters.\n",
    "\n",
    "And then there is always Google...\n",
    "\n",
    "## How to Read this Guide\n",
    "The guide is written in [Jupyter Notebook](https://github.com/dotnet/interactive/#jupyter-and-nteract).  Jupyter Notebook lets you write text with live interactive code inlined.  A notebook contains *cells* where each cell can be text or code.  Each chapter is in its own notebook.  I advice you to click the menu \"Cell -> Run all\" when ever you open a notebook to make sure that all code is run before you start reading.  Wait for the orange hourglass icon to disappear from your browsers tab before you begin reading the notebook.  The charts may not show properly if you do not run all cells.\n",
    "\n",
    "The code is interactive, so you can change play with it as much as you like.  You can even save it.  To be honest, I am not sure how long it will persist.  You saved changes may be gone if your authentication cookie expires.\n",
    "\n",
    "Jupyter Notebook will show you the output of the code whenever a code cell is run.  It will look something like this."
   ]
  },
  {
   "cell_type": "code",
   "execution_count": 13,
   "metadata": {},
   "outputs": [
    {
     "data": {
      "text/html": [
       "42"
      ]
     },
     "execution_count": 13,
     "metadata": {},
     "output_type": "execute_result"
    }
   ],
   "source": [
    "let theAnswer = 42\n",
    "theAnswer"
   ]
  },
  {
   "cell_type": "markdown",
   "metadata": {},
   "source": [
    "Sometimes I will use the built-in Jupyter Notebook function `display` or the F# function `printfn` to show you stuff."
   ]
  },
  {
   "cell_type": "code",
   "execution_count": 14,
   "metadata": {},
   "outputs": [
    {
     "data": {
      "text/html": [
       "42"
      ]
     },
     "metadata": {},
     "output_type": "display_data"
    },
    {
     "name": "stdout",
     "output_type": "stream",
     "text": [
      "The answer is 42\n"
     ]
    }
   ],
   "source": [
    "display(theAnswer)\n",
    "printfn \"The answer is %d\" theAnswer"
   ]
  },
  {
   "cell_type": "markdown",
   "metadata": {},
   "source": [
    "Other than that Jupyter Notebook can also show data as a nice table."
   ]
  },
  {
   "cell_type": "code",
   "execution_count": 15,
   "metadata": {},
   "outputs": [
    {
     "data": {
      "text/html": [
       "<table><thead><tr><th><i>index</i></th><th>PolicyNumber</th><th>Premium</th></tr></thead><tbody><tr><td>0</td><td>Pol001</td><td>100</td></tr><tr><td>1</td><td>Pol002</td><td>95</td></tr><tr><td>2</td><td>Pol003</td><td>1200.24</td></tr></tbody></table>"
      ]
     },
     "execution_count": 15,
     "metadata": {},
     "output_type": "execute_result"
    }
   ],
   "source": [
    "let data = \n",
    "    [\n",
    "        {| PolicyNumber = \"Pol001\"; Premium = 100m; |};\n",
    "        {| PolicyNumber = \"Pol002\"; Premium = 95m; |};\n",
    "        {| PolicyNumber = \"Pol003\"; Premium = 1200.24m; |};\n",
    "    ]\n",
    "    \n",
    "data"
   ]
  },
  {
   "cell_type": "markdown",
   "metadata": {},
   "source": [
    "### Line Numbers\n",
    "Sometimes I refer to line number in the code.  Line numbers are hidden by default but if you click in the left margin for at code cell and press \"L\" on your keyboard, Jupyter Notebook will show line numbers for the code."
   ]
  },
  {
   "cell_type": "markdown",
   "metadata": {},
   "source": [
    "### NuGet Packages\n",
    "Sometimes you will bump into code such as this.\n",
    "```\n",
    "#r \"nuget: XPlot.Plotly\"\n",
    "```\n",
    "It will load a package from the .NET package store called [NuGet](https://www.nuget.org/).  NuGet is similar to the R package library.  There are thousands of open source packages on NuGet that you can use in your F# code.  As you will see, we will mostly be using the packages Fsharp.Data and XPlot.\n",
    "\n",
    "### Contents\n",
    "The first chapter is a brief example that shows you how to transform and chart data in F#.  The following four chapters will dig deeper into the building blocks for the example, i. e. types, functions, reading data and charting.  Chapters 5 and 6 take a tour of more advanced topics such as handling missing values and errors. \n",
    "\n",
    "### What is this Guide not?\n",
    "This guide will not teach you how to program.  It will instead give you a practical brief introduction to the functional aspects of F# and show you how to apply those to the kind of data we work with every day.  There are a lot of areas of F# that I will not show you and I enourage you to be curious and discover all the coolness of F# on your own.\n",
    "\n",
    "## How to Suggest Changes to the Guide\n",
    "The guide is on [GitHub](https://github.com/t4rzsan/fsharp-for-actuaries) so feel free to fork and send me a pull request if you have suggestions or find bugs.\n",
    "\n",
    "The repository also has a \"Sandbox\" folder with very few code samples on what the guide discusses.\n",
    "\n",
    "## Prerequisites\n",
    "As I said, this guide will not teach you how to program.  Before reading this guide, you need to know some programming.  You need to know how to build a program with functions, types and variables.  I you know a bit of R, VBA or similar, you are good to go.\n",
    "\n",
    "You also need a lot of curiosity!\n",
    "\n",
    "\n",
    "Enjoy!"
   ]
  }
 ],
 "metadata": {
  "kernelspec": {
   "display_name": ".NET (F#)",
   "language": "F#",
   "name": ".net-fsharp"
  },
  "language_info": {
   "file_extension": ".fs",
   "mimetype": "text/x-fsharp",
   "name": "C#",
   "pygments_lexer": "fsharp",
   "version": "4.5"
  }
 },
 "nbformat": 4,
 "nbformat_minor": 2
}
